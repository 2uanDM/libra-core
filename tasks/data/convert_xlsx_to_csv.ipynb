{
 "cells": [
  {
   "cell_type": "code",
   "execution_count": 1,
   "metadata": {},
   "outputs": [
    {
     "name": "stdout",
     "output_type": "stream",
     "text": [
      "File has been successfully converted from XLSX to CSV.\n"
     ]
    }
   ],
   "source": [
    "import pandas as pd\n",
    "\n",
    "# Read the Excel file, specifically the 'CN' sheet\n",
    "df = pd.read_excel(\"/home/gcp_dpf/libra-core/data/MBB. Dia chi mang luoi.xlsx\", sheet_name='CN')\n",
    "\n",
    "# Save the DataFrame to a CSV file\n",
    "df.to_csv('output_file.csv', encoding=\"utf-8\", index=False)\n",
    "\n",
    "print(\"File has been successfully converted from XLSX to CSV.\")"
   ]
  },
  {
   "cell_type": "code",
   "execution_count": null,
   "metadata": {},
   "outputs": [],
   "source": []
  }
 ],
 "metadata": {
  "kernelspec": {
   "display_name": ".venv",
   "language": "python",
   "name": "python3"
  },
  "language_info": {
   "codemirror_mode": {
    "name": "ipython",
    "version": 3
   },
   "file_extension": ".py",
   "mimetype": "text/x-python",
   "name": "python",
   "nbconvert_exporter": "python",
   "pygments_lexer": "ipython3",
   "version": "3.9.19"
  }
 },
 "nbformat": 4,
 "nbformat_minor": 2
}
