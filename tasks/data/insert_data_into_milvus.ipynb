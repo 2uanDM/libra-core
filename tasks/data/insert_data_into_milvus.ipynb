{
 "cells": [
  {
   "cell_type": "code",
   "execution_count": 1,
   "metadata": {},
   "outputs": [
    {
     "name": "stderr",
     "output_type": "stream",
     "text": [
      "/home/gcp_dpf/libra-core/.venv/lib/python3.9/site-packages/sentence_transformers/cross_encoder/CrossEncoder.py:11: TqdmWarning: IProgress not found. Please update jupyter and ipywidgets. See https://ipywidgets.readthedocs.io/en/stable/user_install.html\n",
      "  from tqdm.autonotebook import tqdm, trange\n"
     ]
    }
   ],
   "source": [
    "from libra.retrievers import VectorRetriever\n",
    "from libra.vectordb import MilvusStorage\n",
    "from libra.embeddings import SentenceTransformerEncoder, OpenAIEmbedding\n",
    "\n",
    "import os\n",
    "from dotenv import load_dotenv\n",
    "\n",
    "load_dotenv(override=True)\n",
    "\n",
    "embedding_instance = SentenceTransformerEncoder()"
   ]
  },
  {
   "cell_type": "code",
   "execution_count": 32,
   "metadata": {},
   "outputs": [],
   "source": [
    "mb_info_storage_instance = MilvusStorage(\n",
    "    vector_dim=embedding_instance.get_output_dim(),\n",
    "    url_and_api_key=(os.environ['MILVUS_URI'], \"123123\"),\n",
    "    collection_name=\"MBInfo\"\n",
    ")\n",
    "mb_info_storage_instance.clear()"
   ]
  },
  {
   "cell_type": "code",
   "execution_count": 33,
   "metadata": {},
   "outputs": [],
   "source": [
    "mb_info_retriever = VectorRetriever(\n",
    "    embedding_model=embedding_instance, \n",
    "    storage=mb_info_storage_instance\n",
    ")"
   ]
  },
  {
   "cell_type": "markdown",
   "metadata": {},
   "source": [
    "### Adding Company Profile"
   ]
  },
  {
   "cell_type": "code",
   "execution_count": 34,
   "metadata": {},
   "outputs": [],
   "source": [
    "from libra.loaders import read_file\n",
    "from io import BytesIO\n",
    "import json\n",
    "from libra.utils import json_to_well_formatted\n",
    "\n",
    "company_profiles = []\n",
    "\n",
    "\n",
    "file_path = os.path.join('..', '..', 'data', 'company_profile.csv')\n",
    "with open(file_path, \"rb\") as f:\n",
    "    file = BytesIO(f.read())\n",
    "    file.name = \"company_profile.csv\"\n",
    "    json_file = read_file(file)\n",
    "    for doc in json_file.docs:\n",
    "        doc_content = json.loads(doc['page_content'])    \n",
    "        company_profiles.append({\n",
    "            \"embed\": doc_content['Documents Topic'],\n",
    "            \"content\": json_to_well_formatted({\n",
    "                \"Topic\": doc_content['Documents Topic'],\n",
    "                \"Content\": doc_content['Document Content'],\n",
    "            })\n",
    "        })"
   ]
  },
  {
   "cell_type": "code",
   "execution_count": 35,
   "metadata": {},
   "outputs": [
    {
     "name": "stderr",
     "output_type": "stream",
     "text": [
      "100%|██████████| 169/169 [00:26<00:00,  6.48it/s]\n"
     ]
    }
   ],
   "source": [
    "mb_info_retriever.process(data=company_profiles, batch_size=1)"
   ]
  },
  {
   "cell_type": "code",
   "execution_count": 39,
   "metadata": {},
   "outputs": [
    {
     "name": "stdout",
     "output_type": "stream",
     "text": [
      "Topic: Trụ sở chính hay hội sở của MB Bank nằm ở đâu ở đâu?\n",
      "Content: Trụ sở chính của MB Bank hiện đang được đặt tại số 18 Lê Văn Lương, Trung Hòa, Cầu Giấy, Hà Nội. \n",
      "\n",
      "Tuyến đường Láng Hạ - Lê Văn Lương còn được ví von như là \"Phố Wall thứ 2\" của Hà Nội bên cạnh dãy phố phía Nam và phía Đông của hồ Hoàn Kiếm (hồ Gươm)\n",
      "\n",
      "Nếu như bạn muốn đến trụ sở của MB, mình xin được gửi bạn link Google Map: https://maps.app.goo.gl/nDU4cmmtTU4mDX5TA\n",
      "\n",
      "Bạn hãy xuống các tầng hầm B1, B2, B3, ... để gửi xe nhé. Vì là ngân hàng quân đội nên sẽ có các chú công an hướng dẫn các gửi xe cho bạn.\n",
      "\n",
      "Và đừng quên là, nếu như bạn cần phải đi lên các tầng làm việc của MB theo lời mời làm việc thì bạn hãy chuẩn bị thư / email mời cũng như căn cước công dân / giấy tờ tùy thân theo để làm thủ tục ở lễ tân nhé\n",
      "\n",
      "Topic: Các phòng giao dịch và chi nhánh MB ở Khu vực Hà Nội 1/5\n",
      "Content: Khu vực Hà Nội,Hà Nội,CN. Bà Triệu,Trụ sở,Hà Nội,Quận Hoàn Kiếm,Số 18 Đường Ngô Quyền - Phường Tràng Tiền - Quận Hoàn Kiếm - Hà Nội\n",
      "Khu vực Hà Nội,Hà Nội,CN. Bạch Mai,Trụ sở,Hà Nội,Quận Hai Bà Trưng,\"Một phần Tầng 1 Trung tâm thương mại Chợ Mơ, số 459C phố Bạch Mai - Phường Trương Định - Quận Hai Bà Trưng - Hà Nội\"\n",
      "Khu vực Hà Nội,Hà Nội,CN. Điện Biên Phủ,Trụ sở,Hà Nội,Quận Ba Đình,Số 28A đường Điện Biên Phủ - Phường Điện Biên - Quận Ba Đình - Hà Nội\n",
      "Khu vực Hà Nội,Hà Nội,CN. Đông Anh,Trụ sở,Hà Nội,Huyện Đông Anh,\"Tầng 1,2,3 Tòa nhà Trung tâm Du lịch và Thương mại Tổng hợp Cổ Loa, Tổ 3, Thị trấn Đông Anh, Huyện Đông Anh, Hà Nội\"\n",
      "Khu vực Hà Nội,Hà Nội,CN. Đông Anh,Phòng giao dịch Sóc Sơn,Hà Nội,Huyện Sóc Sơn,\"Một phần thửa đất Khu 1, Khu 2 - Thị Trấn Sóc Sơn - Huyện Sóc Sơn - Hà Nội\"\n",
      "Khu vực Hà Nội,Hà Nội,CN. Đống Đa,Trụ sở,Hà Nội,Quận Đống Đa,\"Một phần tầng 1, tầng 2 tòa nhà Trụ sở làm việc Trung tâm Phát thanh truyền hình Quân đội, số 165 Xã Đàn - Phường Nam Đồng - Quận Đống Đa - Hà Nội\"\n",
      "Khu vực Hà Nội,Hà Nội,CN. Đống Đa,Phòng giao dịch Thái Thịnh,Hà Nội,Quận Đống Đa,Số 71 - 73 Thái Thịnh - Phường Thịnh Quang - Quận Đống Đa - Hà Nội\n",
      "Khu vực Hà Nội,Hà Nội,CN. Đống Đa,Phòng giao dịch Hoàng Cầu,Hà Nội,Quận Đống Đa,Tầng 2 - Phường Ô Chợ Dừa - Quận Đống Đa - Hà Nội\n",
      "Khu vực Hà Nội,Hà Nội,CN. Đông Hà Nội,Trụ sở,Hà Nội,Quận Long Biên,63 đường Cổ Linh - Phường Thạch Bàn - Quận Long Biên - Hà Nội\n",
      "Khu vực Hà Nội,Hà Nội,CN. Gia Lâm,Trụ sở,Hà Nội,Huyện Gia Lâm,Số 132 - 134 đường Ngô Xuân Quảng - Thị Trấn Trâu Quỳ - Huyện Gia Lâm - Hà Nội\n",
      "Khu vực Hà Nội,Hà Nội,CN. Hà Thành,Trụ sở,Hà Nội,Quận Ba Đình,47 Phan Đình Phùng - Phường Quán Thánh - Quận Ba Đình - Hà Nội\n",
      "Khu vực Hà Nội,Hà Nội,CN. Hai Bà Trưng,Trụ sở,Hà Nội,Quận Hai Bà Trưng,\"Tầng 1 tòa Tower 1, Times city, số 458 Minh Khai - Phường Vĩnh Tuy - Quận Hai Bà Trưng - Hà Nội\"\n",
      "Khu vực Hà Nội,Hà Nội,CN. Hai Bà Trưng,Phòng giao dịch Vân Hồ,Hà Nội,Quận Hai Bà Trưng,Số 29 Lê Đại Hành - Phường Lê Đại Hành - Quận Hai Bà Trưng - Hà Nội\n",
      "\n",
      "\n",
      "Topic: Các phòng giao dịch và chi nhánh MB ở Khu vực Hà Nội 3/5\n",
      "Content: Khu vực Hà Nội,Hà Nội ,CN. Thường Tín,Trụ sở,Hà Nội,Huyện Thường Tín,\"Một phần tầng 1, tầng 2 tòa nhà tại lô số 2, cụm công nghiệp Hà Bình Phương - Xã Hà Hồi - Huyện Thường Tín - Hà Nội\"\n",
      "Khu vực Hà Nội,Hà Nội ,CN. Thụy Khuê,Trụ sở,Hà Nội,Quận Tây Hồ,Tầng 1 vị trí L1 - A - B tổ hợp dự án số 69B phố Thụy Khuê - Phường Thụy Khuê - Quận Tây Hồ - Hà Nội\n",
      "Khu vực Hà Nội,Hà Nội ,CN. Vạn Phúc,Trụ sở,Hà Nội,Quận Hà Đông,\"B-TT01-55B-TT01-57, Khu nhà ở Ngân Hà Vạn Phúc - Phường Vạn Phúc - Quận Hà Đông - Hà Nội\"\n",
      "Khu vực Hà Nội,Hà Nội ,CN. Ba Đình,Trụ sở,Hà Nội,Quận Ba Đình,Số 3 Liễu Giai - Phường Liễu Giai - Quận Ba Đình - Hà Nội\n",
      "Khu vực Hà Nội,Hà Nội ,CN. Ba Đình,Phòng giao dịch Vĩnh Phúc 1,Hà Nội,Quận Ba Đình,\"Tầng 1 và tầng 2 số 102, 103, 203 nhà K2, khu 7.2 HA Vĩnh Phúc - Phường Vĩnh Phúc - Quận Ba Đình - Hà Nội\"\n",
      "Khu vực Hà Nội,Hà Nội ,CN. Đan Phượng,Trụ sở,Hà Nội,Huyện Đan Phượng,Km 21 Quốc Lộ 32 - Thị trấn Phùng - Huyện Đan Phượng - Hà Nội\n",
      "Khu vực Hà Nội,Hà Nội ,CN. Đông Đô,Trụ sở,Hà Nội,Quận Nam Từ Liêm,109 Phố Nhổn - Phường Phương Canh - Quận Nam Từ Liêm - Hà Nội\n",
      "Khu vực Hà Nội,Hà Nội ,CN. Giải Phóng,Trụ sở,Hà Nội,Quận Thanh Xuân,\"Một phần tầng 1 và tầng lửng tòa nhà HH2 Dự án Khu hỗn hợp nhà ở, dịch vụ công cộng, văn phòng và trường học (tên thương mại Imperial Plaza) tại địa chỉ số 360 đường Giải Phóng, Phường Phương Liệt, Quận Thanh Xuân, Hà Nội\"\n",
      "Khu vực Hà Nội,Hà Nội ,CN. Giải Phóng,Phòng giao dịch Tân Mai,Hà Nội,Quận Hoàng Mai,\"Số 641, nhà H5, TT Tân Mai, Phường Tân Mai, Quận Hoàng Mai, Hà Nội\"\n",
      "Khu vực Hà Nội,Hà Nội ,CN. Hà Đông,Trụ sở,Hà Nội,Quận Hà Đông,\"Một phần tầng 1, tầng 2 toàn tháp Thiên niên kỷ số 4 đường Quang Trung - Phường Yết Kiêu - Quận Hà Đông - Hà Nội\"\n",
      "Khu vực Hà Nội,Hà Nội ,CN. Hà Nội,Trụ sở,Hà Nội,Quận Cầu Giấy,Tầng 1 tòa nhà số 17T2 KDT Trung Hòa Nhân Chính - Phường Trung Hòa - Quận Cầu Giấy - Hà Nội\n",
      "Khu vực Hà Nội,Hà Nội ,CN. Hà Nội,Phòng giao dịch Trung Văn,Hà Nội,Quận Thanh Xuân,\"Tầng 1 tòa nhà HH2 Bắc Hà, số 15 phố Tố Hữu - Phường Nhân Chính - Quận Thanh Xuân - Hà Nội\"\n",
      "Khu vực Hà Nội,Hà Nội ,CN. Hà Nội,Phòng giao dịch Nam Trung Yên,Hà Nội,Quận Cầu Giấy,\"Ô số 10 ( Khu tái định cư Tại chỗ) đường Trung Yên 1, KĐTM Trung Yên - Phường Yên Hòa - Quận Cầu Giấy - Hà Nội\"\n",
      "Khu vực Hà Nội,Hà Nội ,CN. Hòa Lạc,Trụ sở,Hà Nội,Huyện Thạch Thất,\"Tầng  1 Tòa nhà Công ty TNHH MTV Phát triển Khu CNC Hòa Lạc, Khu Công nghệ cao Hòa Lạc, Km29, Đại lộ Thăng Long - Xã Thạch Hòa - Huyện Thạch Thất - Hà Nội\"\n",
      "\n",
      "Topic: Các phòng giao dịch và chi nhánh MB ở Khu vực Hà Nội 2/5\n",
      "Content: Khu vực Hà Nội,Hà Nội,CN. Hoàn Kiếm,Trụ sở,Hà Nội,Quận Hoàn Kiếm,\"Một phần tầng 1, tầng 2 và tầng 3, Tòa nhà thông tấn xã, Số 77 -79 đường Lý Thường Kiệt - Phường Trần Hưng Đạo - Quận Hoàn Kiếm - Hà Nội\"\n",
      "Khu vực Hà Nội,Hà Nội ,CN. Hồng Hà,Trụ sở,Hà Nội,Quận Hà Đông,Tầng 1 số 160 đường Phùng Hưng - Phường Phúc La - Quận Hà Đông - Hà Nội\n",
      "Khu vực Hà Nội,Hà Nội ,CN. Linh Đàm,Trụ sở,Hà Nội,Quận Hoàng Mai,BT1 Ô 4 Bắc Linh Đàm - Phường Đại Kim - Quận Hoàng Mai - Hà Nội\n",
      "Khu vực Hà Nội,Hà Nội ,CN. Long Biên,Trụ sở,Hà Nội,Quận Long Biên,\"Tầng 1, 3, 4, 5 số 137C đường Nguyễn Văn Cừ - Phường Ngọc Lâm - Quận Long Biên - Hà Nội\"\n",
      "Khu vực Hà Nội,Hà Nội ,CN. Long Biên,Phòng giao dịch Yên Viên,Hà Nội,Huyện Gia Lâm,\"Tầng 1, số 467 đường Hà Huy Tập - Thị Trấn Yên Viên - Huyện Gia Lâm - Hà Nội\"\n",
      "Khu vực Hà Nội,Hà Nội ,CN. Lý Nam Đế,Trụ sở,Hà Nội,Quận Hoàn Kiếm,Số 14C đường Lý Nam Đế - Phường Hàng Mã - Quận Hoàn Kiếm - Hà Nội\n",
      "Khu vực Hà Nội,Hà Nội ,CN. Lý Thái Tổ,Trụ sở,Hà Nội,Quận Hoàn Kiếm,Số 17 Tông Đản - Phường Tràng Tiền - Quận Hoàn Kiếm - Hà Nội\n",
      "Khu vực Hà Nội,Hà Nội ,CN. Mê Linh,Trụ sở,Hà Nội,Huyện Mê Linh,\"Thửa đất số 715, tờ bản đồ số 46, tổ dân phố số 7 - Thị trấn Quang Minh - Huyện Mê Linh - Hà Nội\"\n",
      "Khu vực Hà Nội,Hà Nội ,CN. Minh Khai,Trụ sở,Hà Nội,Quận Hai Bà Trưng,\"Tầng 1, 2, 3, 4 số 409, tổ 52, phố Kim Ngưu - Phường Vĩnh Tuy - Quận Hai Bà Trưng - Hà Nội\"\n",
      "Khu vực Hà Nội,Hà Nội ,CN. Nam Hà Nội,Trụ sở,Hà Nội,Quận Đống Đa,\"Một phần tầng 1, tầng 2 tòa nhà số 8 Phạm Ngọc Thạch - Phường Kim Liên - Quận Đống Đa - Hà Nội\"\n",
      "Khu vực Hà Nội,Hà Nội ,CN. Ngô Gia Tự,Trụ sở,Hà Nội,Quận Long Biên,Số 32 đường Ngô Gia Tự - Phường Đức Giang - Quận Long Biên - Hà Nội\n",
      "Khu vực Hà Nội,Hà Nội ,CN. Tây Sơn,Trụ sở,Hà Nội,Quận Thanh Xuân,\"Tầng 1, 3 tòa nhà số 539 - 539A, phố Vũ Tông Phan - Phường Khương Đình - Quận Thanh Xuân - Hà Nội\"\n",
      "Khu vực Hà Nội,Hà Nội ,CN. Thanh Trì,Trụ sở,Hà Nội,Huyện Thanh Trì,Tầng 1 tòa nhà An & Huy khu công nghiệp Ngọc Hồi - Xã Ngọc Hồi - Huyện Thanh Trì - Hà Nội\n",
      "Khu vực Hà Nội,Hà Nội ,CN. Thanh Xuân,Trụ sở,Hà Nội,Quận Thanh Xuân,\"Một phần Tầng 1, tầng 2 tòa nhà Gold Tower, số 275 Nguyễn Trãi - Phường Thanh Xuân Trung - Quận Thanh Xuân - Hà Nội\"\n",
      "Khu vực Hà Nội,Hà Nội ,CN. Thủ Đô,Trụ sở,Hà Nội,Quận Hai Bà Trưng,Tòa nhà Vinafor số 127 Lò Đúc - Phường Đống Mác - Quận Hai Bà Trưng - Hà Nội\n",
      "\n",
      "\n"
     ]
    }
   ],
   "source": [
    "results = mb_info_retriever.query(query=\"MB có chi nhánh nào gần Hà Đông không ?\", top_k=4)\n",
    "\n",
    "for entry in results:\n",
    "    print(entry['text'])"
   ]
  },
  {
   "cell_type": "markdown",
   "metadata": {},
   "source": [
    "### Adding jobs"
   ]
  },
  {
   "cell_type": "code",
   "execution_count": 2,
   "metadata": {},
   "outputs": [],
   "source": [
    "job_storage_instance = MilvusStorage(\n",
    "    vector_dim=embedding_instance.get_output_dim(),\n",
    "    url_and_api_key=(os.environ['MILVUS_URI'], \"123123\"),\n",
    "    collection_name=\"jobs\"\n",
    ")\n",
    "job_storage_instance.clear()"
   ]
  },
  {
   "cell_type": "code",
   "execution_count": 3,
   "metadata": {},
   "outputs": [],
   "source": [
    "job_retriever = VectorRetriever(\n",
    "    embedding_model=embedding_instance,\n",
    "    storage=job_storage_instance\n",
    ")"
   ]
  },
  {
   "cell_type": "code",
   "execution_count": 16,
   "metadata": {},
   "outputs": [],
   "source": [
    "import re\n",
    "\n",
    "def parse_salaries(salary_data):\n",
    "    salaries = (\"\", \"\")\n",
    "    lines = salary_data.split('\\n')\n",
    "    \n",
    "    for line in lines:\n",
    "        line = line.strip()\n",
    "        if not line:\n",
    "            continue\n",
    "        \n",
    "        # Check for \"a - b VND\" format\n",
    "        match = re.match(r'(\\d{1,3}(?:,\\d{3})*) - (\\d{1,3}(?:,\\d{3})*)\\s*VNĐ', line)\n",
    "        if match:\n",
    "            min_salary = match.group(1).replace(',', '')\n",
    "            max_salary = match.group(2).replace(',', '')\n",
    "        else:\n",
    "            # For other formats, set min and max to the same value\n",
    "            # Remove \"VNĐ\" and any leading/trailing whitespace\n",
    "            value = line.replace('VNĐ', '').strip()\n",
    "            \n",
    "            if value in ['Lương thỏa thuận', 'Cạnh Tranh']:\n",
    "                min_salary = max_salary = value\n",
    "            else:\n",
    "                # Try to extract a number if present\n",
    "                number_match = re.search(r'\\d{1,3}(?:,\\d{3})*', value)\n",
    "                if number_match:\n",
    "                    salary_value = int(number_match.group().replace(',', ''))\n",
    "                    min_salary = max_salary = salary_value\n",
    "                else:\n",
    "                    min_salary = max_salary = value\n",
    "\n",
    "        salaries = (min_salary, max_salary)\n",
    "    \n",
    "    return salaries\n",
    "\n",
    "def is_number(s):\n",
    "    return s.isdigit()"
   ]
  },
  {
   "cell_type": "code",
   "execution_count": 18,
   "metadata": {},
   "outputs": [],
   "source": [
    "from libra.loaders import read_file\n",
    "from io import BytesIO\n",
    "import json\n",
    "from pprint import pprint\n",
    "\n",
    "jobs = []\n",
    "\n",
    "keys_to_extract = [\"workplace\", \"industry\", \"welfare\", \"min_salary\", \"max_salary\"]\n",
    "\n",
    "file_path = os.path.join('..', '..', 'data', 'jobs_data.json')\n",
    "with open(file_path, \"rb\") as f:\n",
    "    file = BytesIO(f.read())\n",
    "    file.name = \"jobs_data.json\"\n",
    "    json_file = read_file(file)\n",
    "    for doc in json_file.docs:\n",
    "        doc_content = json.loads(doc['page_content']) \n",
    "        a, b = parse_salaries(doc_content['salary'])\n",
    "        if is_number(a):\n",
    "            a +=' VNĐ' # type: ignore\n",
    "            \n",
    "        if is_number(b):\n",
    "            b +=' VNĐ' # type: ignore\n",
    "        \n",
    "        doc_content['min_salary'] = a\n",
    "        doc_content['max_salary'] = b\n",
    "            \n",
    "        job = {\n",
    "            \"embed\": str({key: doc_content[key] for key in keys_to_extract}),\n",
    "            \"content\": str(doc_content)\n",
    "        }\n",
    "        jobs.append(job)"
   ]
  },
  {
   "cell_type": "code",
   "execution_count": 31,
   "metadata": {},
   "outputs": [
    {
     "data": {
      "text/plain": [
       "\"{'workplace': 'Hà Nội', 'industry': 'Ngân hàng, Tài chính / Đầu tư', 'welfare': ['Bảo hiểm', 'Du Lịch', 'Thưởng', 'Chăm sóc sức khỏe', 'Đào tạo', 'Tăng lương'], 'min_salary': 'Lương thỏa thuận', 'max_salary': 'Lương thỏa thuận'}\""
      ]
     },
     "execution_count": 31,
     "metadata": {},
     "output_type": "execute_result"
    }
   ],
   "source": [
    "jobs[-1]['embed']"
   ]
  },
  {
   "cell_type": "code",
   "execution_count": 21,
   "metadata": {},
   "outputs": [],
   "source": [
    "job_storage_instance.clear()"
   ]
  },
  {
   "cell_type": "code",
   "execution_count": 22,
   "metadata": {},
   "outputs": [
    {
     "name": "stderr",
     "output_type": "stream",
     "text": [
      "100%|██████████| 365/365 [02:41<00:00,  2.26it/s]\n"
     ]
    }
   ],
   "source": [
    "job_retriever.process(jobs, batch_size=1)"
   ]
  },
  {
   "cell_type": "code",
   "execution_count": 30,
   "metadata": {},
   "outputs": [
    {
     "name": "stdout",
     "output_type": "stream",
     "text": [
      "{'embed': \"{'workplace': 'Hà Nội', 'industry': 'CNTT - Phần mềm, CNTT - Phần cứng / Mạng, Ngân hàng', 'welfare': [], 'min_salary': 'Lương thỏa thuận', 'max_salary': 'Lương thỏa thuận'}\"}\n",
      "{'embed': \"{'workplace': 'Hà Nội', 'industry': 'CNTT - Phần mềm, CNTT - Phần cứng / Mạng, Ngân hàng', 'welfare': [], 'min_salary': 'Lương thỏa thuận', 'max_salary': 'Lương thỏa thuận'}\"}\n",
      "{'embed': \"{'workplace': 'Hà Nội', 'industry': 'CNTT - Phần mềm, CNTT - Phần cứng / Mạng, Ngân hàng', 'welfare': [], 'min_salary': 'Lương thỏa thuận', 'max_salary': 'Lương thỏa thuận'}\"}\n",
      "{'embed': \"{'workplace': 'Hà Nội', 'industry': 'CNTT - Phần mềm, CNTT - Phần cứng / Mạng, Ngân hàng', 'welfare': [], 'min_salary': 'Lương thỏa thuận', 'max_salary': 'Lương thỏa thuận'}\"}\n"
     ]
    }
   ],
   "source": [
    "q = {\n",
    "    'workplace': 'nghệ an', \n",
    "    'industry': 'CNTT', \n",
    "    # 'welfare': 'Thưởng', \n",
    "    'max_salary': '40 triệu'\n",
    "}\n",
    "for entry in job_retriever.query(str(q), top_k=4):\n",
    "    print(entry['metadata'])"
   ]
  },
  {
   "cell_type": "code",
   "execution_count": null,
   "metadata": {},
   "outputs": [],
   "source": []
  }
 ],
 "metadata": {
  "kernelspec": {
   "display_name": ".venv",
   "language": "python",
   "name": "python3"
  },
  "language_info": {
   "codemirror_mode": {
    "name": "ipython",
    "version": 3
   },
   "file_extension": ".py",
   "mimetype": "text/x-python",
   "name": "python",
   "nbconvert_exporter": "python",
   "pygments_lexer": "ipython3",
   "version": "3.9.19"
  }
 },
 "nbformat": 4,
 "nbformat_minor": 2
}
