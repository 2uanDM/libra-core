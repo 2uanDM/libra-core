{
 "cells": [
  {
   "cell_type": "code",
   "execution_count": 1,
   "metadata": {},
   "outputs": [
    {
     "name": "stderr",
     "output_type": "stream",
     "text": [
      "/home/gcp_dpf/libra-core/.venv/lib/python3.9/site-packages/sentence_transformers/cross_encoder/CrossEncoder.py:11: TqdmWarning: IProgress not found. Please update jupyter and ipywidgets. See https://ipywidgets.readthedocs.io/en/stable/user_install.html\n",
      "  from tqdm.autonotebook import tqdm, trange\n"
     ]
    }
   ],
   "source": [
    "from libra.retrievers import VectorRetriever\n",
    "from libra.vectordb import MilvusStorage\n",
    "from libra.embeddings import SentenceTransformerEncoder, OpenAIEmbedding\n",
    "\n",
    "import os\n",
    "from dotenv import load_dotenv\n",
    "\n",
    "load_dotenv(override=True)\n",
    "\n",
    "embedding_instance = SentenceTransformerEncoder()"
   ]
  },
  {
   "cell_type": "code",
   "execution_count": 2,
   "metadata": {},
   "outputs": [],
   "source": [
    "mb_info_storage_instance = MilvusStorage(\n",
    "    vector_dim=embedding_instance.get_output_dim(),\n",
    "    url_and_api_key=(os.environ['MILVUS_URI'], \"123123\"),\n",
    "    collection_name=\"MBInfo\"\n",
    ")\n",
    "# mb_info_storage_instance.clear()"
   ]
  },
  {
   "cell_type": "code",
   "execution_count": 3,
   "metadata": {},
   "outputs": [],
   "source": [
    "mb_info_retriever = VectorRetriever(\n",
    "    embedding_model=embedding_instance, \n",
    "    storage=mb_info_storage_instance\n",
    ")"
   ]
  },
  {
   "cell_type": "markdown",
   "metadata": {},
   "source": [
    "### Adding Company Profile"
   ]
  },
  {
   "cell_type": "code",
   "execution_count": 4,
   "metadata": {},
   "outputs": [],
   "source": [
    "from libra.loaders import read_file\n",
    "from io import BytesIO\n",
    "import json\n",
    "from libra.utils import json_to_well_formatted\n",
    "\n",
    "company_profiles = []\n",
    "\n",
    "\n",
    "file_path = os.path.join('..', '..', 'data', 'company_profile.csv')\n",
    "with open(file_path, \"rb\") as f:\n",
    "    file = BytesIO(f.read())\n",
    "    file.name = \"company_profile.csv\"\n",
    "    json_file = read_file(file)\n",
    "    for doc in json_file.docs:\n",
    "        doc_content = json.loads(doc['page_content'])    \n",
    "        company_profiles.append({\n",
    "            \"embed\": doc_content['Documents Topic'],\n",
    "            \"content\": json_to_well_formatted({\n",
    "                \"Topic\": doc_content['Documents Topic'],\n",
    "                \"Content\": doc_content['Document Content'],\n",
    "            })\n",
    "        })"
   ]
  },
  {
   "cell_type": "code",
   "execution_count": 35,
   "metadata": {},
   "outputs": [
    {
     "name": "stderr",
     "output_type": "stream",
     "text": [
      "100%|██████████| 169/169 [00:26<00:00,  6.48it/s]\n"
     ]
    }
   ],
   "source": [
    "mb_info_retriever.process(data=company_profiles, batch_size=1)"
   ]
  },
  {
   "cell_type": "code",
   "execution_count": 9,
   "metadata": {},
   "outputs": [
    {
     "name": "stdout",
     "output_type": "stream",
     "text": [
      "{'embed': 'Thông điệp của Tổng Giám đốc MB'}\n",
      "{'embed': 'Thông điệp của Chủ tịch Hội đồng Quản trị MB'}\n",
      "{'embed': 'Báo Cáo Đánh Giá Của Hội Đồng Quản Trị'}\n",
      "{'embed': 'Thành viên ban điều hành'}\n"
     ]
    }
   ],
   "source": [
    "results = mb_info_retriever.query(query=\"Tổng giám đốc đã nói gì ?\", top_k=4)\n",
    "\n",
    "for entry in results:\n",
    "    print(entry['metadata'])"
   ]
  },
  {
   "cell_type": "markdown",
   "metadata": {},
   "source": [
    "### Adding jobs"
   ]
  },
  {
   "cell_type": "code",
   "execution_count": 7,
   "metadata": {},
   "outputs": [],
   "source": [
    "job_storage_instance = MilvusStorage(\n",
    "    vector_dim=embedding_instance.get_output_dim(),\n",
    "    url_and_api_key=(os.environ['MILVUS_URI'], \"123123\"),\n",
    "    collection_name=\"jobs\"\n",
    ")\n",
    "# job_storage_instance.clear()"
   ]
  },
  {
   "cell_type": "code",
   "execution_count": 8,
   "metadata": {},
   "outputs": [],
   "source": [
    "job_retriever = VectorRetriever(\n",
    "    embedding_model=embedding_instance,\n",
    "    storage=job_storage_instance\n",
    ")"
   ]
  },
  {
   "cell_type": "code",
   "execution_count": 51,
   "metadata": {},
   "outputs": [],
   "source": [
    "import re\n",
    "\n",
    "def parse_salaries(salary_data):\n",
    "    salaries = (\"\", \"\")\n",
    "    lines = salary_data.split('\\n')\n",
    "    \n",
    "    for line in lines:\n",
    "        line = line.strip()\n",
    "        if not line:\n",
    "            continue\n",
    "        \n",
    "        # Check for \"a - b VND\" format\n",
    "        match = re.match(r'(\\d{1,3}(?:,\\d{3})*) - (\\d{1,3}(?:,\\d{3})*)\\s*VNĐ', line)\n",
    "        if match:\n",
    "            min_salary = match.group(1).replace(',', '')\n",
    "            max_salary = match.group(2).replace(',', '')\n",
    "        else:\n",
    "            # For other formats, set min and max to the same value\n",
    "            # Remove \"VNĐ\" and any leading/trailing whitespace\n",
    "            value = line.replace('VNĐ', '').strip()\n",
    "            \n",
    "            if value in ['Lương thỏa thuận', 'Cạnh Tranh']:\n",
    "                min_salary = max_salary = value\n",
    "            else:\n",
    "                # Try to extract a number if present\n",
    "                number_match = re.search(r'\\d{1,3}(?:,\\d{3})*', value)\n",
    "                if number_match:\n",
    "                    salary_value = int(number_match.group().replace(',', ''))\n",
    "                    min_salary = max_salary = salary_value\n",
    "                else:\n",
    "                    min_salary = max_salary = value\n",
    "\n",
    "        salaries = (min_salary, max_salary)\n",
    "    \n",
    "    return salaries\n",
    "\n",
    "def is_number(s):\n",
    "    return s.isdigit()"
   ]
  },
  {
   "cell_type": "code",
   "execution_count": 52,
   "metadata": {},
   "outputs": [],
   "source": [
    "from libra.loaders import read_file\n",
    "from io import BytesIO\n",
    "import json\n",
    "from pprint import pprint\n",
    "\n",
    "jobs = []\n",
    "\n",
    "keys_to_extract = [\"title\", \"workplace\", \"industry\", \"welfare\", \"min_salary\", \"max_salary\"]\n",
    "\n",
    "file_path = os.path.join('..', '..', 'data', 'jobs_data.json')\n",
    "with open(file_path, \"rb\") as f:\n",
    "    file = BytesIO(f.read())\n",
    "    file.name = \"jobs_data.json\"\n",
    "    json_file = read_file(file)\n",
    "    for doc in json_file.docs:\n",
    "        doc_content = json.loads(doc['page_content']) \n",
    "        a, b = parse_salaries(doc_content['salary'])\n",
    "        if is_number(a):\n",
    "            a +=' VNĐ' # type: ignore\n",
    "            \n",
    "        if is_number(b):\n",
    "            b +=' VNĐ' # type: ignore\n",
    "        \n",
    "        doc_content['min_salary'] = a\n",
    "        doc_content['max_salary'] = b\n",
    "            \n",
    "        job = {\n",
    "            \"embed\": str({key: doc_content[key] for key in keys_to_extract}),\n",
    "            \"content\": str(doc_content)\n",
    "        }\n",
    "        jobs.append(job)"
   ]
  },
  {
   "cell_type": "code",
   "execution_count": 53,
   "metadata": {},
   "outputs": [
    {
     "data": {
      "text/plain": [
       "\"{'title': 'Chuyên viên/CVCC Quản trị rủi ro mô hình - Khối Quản trị rủi ro', 'workplace': 'Hà Nội', 'industry': 'Ngân hàng, Tài chính / Đầu tư', 'welfare': ['Bảo hiểm', 'Du Lịch', 'Thưởng', 'Chăm sóc sức khỏe', 'Đào tạo', 'Tăng lương'], 'min_salary': 'Lương thỏa thuận', 'max_salary': 'Lương thỏa thuận'}\""
      ]
     },
     "execution_count": 53,
     "metadata": {},
     "output_type": "execute_result"
    }
   ],
   "source": [
    "jobs[-1]['embed']"
   ]
  },
  {
   "cell_type": "code",
   "execution_count": 54,
   "metadata": {},
   "outputs": [],
   "source": [
    "job_storage_instance.clear()"
   ]
  },
  {
   "cell_type": "code",
   "execution_count": 55,
   "metadata": {},
   "outputs": [
    {
     "name": "stderr",
     "output_type": "stream",
     "text": [
      "100%|██████████| 365/365 [03:05<00:00,  1.97it/s]\n"
     ]
    }
   ],
   "source": [
    "job_retriever.process(jobs, batch_size=1)"
   ]
  },
  {
   "cell_type": "code",
   "execution_count": 11,
   "metadata": {},
   "outputs": [
    {
     "name": "stdout",
     "output_type": "stream",
     "text": [
      "{'title': 'Chuyên viên UB (Chuyên viên Tư vấn) - CN. Nam Hải Phòng', 'workplace': 'Hải Phòng', 'industry': 'Dịch vụ khách hàng, Ngân hàng, Tài chính / Đầu tư', 'welfare': ['Bảo hiểm', 'Du Lịch', 'Phụ cấp', 'Du lịch nước ngoài', 'Đồng phục', 'Thưởng', 'Chăm sóc sức khỏe', 'Đào tạo', 'Tăng lương', 'Công tác phí', 'Phụ cấp thâm niên', 'Chế độ nghỉ phép', 'Chế độ tập thể dục'], 'min_salary': '8000000 VNĐ', 'max_salary': '15000000 VNĐ'}\n",
      "{'title': 'CN Hậu Giang - Chuyên viên UB', 'workplace': 'Hậu Giang', 'industry': 'Bán hàng / Kinh doanh, Ngân hàng, Tài chính / Đầu tư', 'welfare': ['Bảo hiểm', 'Du Lịch', 'Phụ cấp', 'Du lịch nước ngoài', 'Đồng phục', 'Thưởng', 'Chăm sóc sức khỏe', 'Đào tạo', 'Tăng lương', 'Công tác phí', 'Phụ cấp thâm niên', 'Chế độ nghỉ phép', 'Chế độ tập thể dục'], 'min_salary': '10000000 VNĐ', 'max_salary': '35000000 VNĐ'}\n",
      "{'title': 'Chuyên viên UB (Chuyên viên Tư vấn) - CN. Nghi Sơn (Thanh Hóa)', 'workplace': 'Thanh Hóa', 'industry': 'Dịch vụ khách hàng, Ngân hàng, Tài chính / Đầu tư', 'welfare': ['Bảo hiểm', 'Du Lịch', 'Phụ cấp', 'Du lịch nước ngoài', 'Đồng phục', 'Thưởng', 'Chăm sóc sức khỏe', 'Đào tạo', 'Tăng lương', 'Công tác phí', 'Phụ cấp thâm niên', 'Chế độ nghỉ phép', 'Chế độ tập thể dục'], 'min_salary': '8000000 VNĐ', 'max_salary': '15000000 VNĐ'}\n",
      "{'title': 'Chuyên viên UB (Chuyên viên tư vấn) - Hà Nội', 'workplace': 'Hà Nội', 'industry': 'Dịch vụ khách hàng, Ngân hàng, Tài chính / Đầu tư', 'welfare': ['Máy tính xách tay', 'Bảo hiểm', 'Du Lịch', 'Phụ cấp', 'Đồng phục', 'Thưởng', 'Chăm sóc sức khỏe', 'Đào tạo', 'Tăng lương', 'Công tác phí', 'Phụ cấp thâm niên', 'Chế độ nghỉ phép'], 'min_salary': '10000000 VNĐ', 'max_salary': '50000000 VNĐ'}\n",
      "{'title': 'Chuyên viên UB (Chuyên viên Tư vấn) - Khu vực Long Biên', 'workplace': 'Hà Nội', 'industry': 'Dịch vụ khách hàng, Ngân hàng, Tài chính / Đầu tư', 'welfare': ['Bảo hiểm', 'Du Lịch', 'Phụ cấp', 'Du lịch nước ngoài', 'Đồng phục', 'Thưởng', 'Chăm sóc sức khỏe', 'Đào tạo', 'Tăng lương', 'Phụ cấp thâm niên', 'Chế độ nghỉ phép'], 'min_salary': '15000000 VNĐ', 'max_salary': '25000000 VNĐ'}\n"
     ]
    }
   ],
   "source": [
    "for entry in job_retriever.query(\"nghề UB ở Hải Phòng\", top_k=5):\n",
    "    print(entry['metadata']['embed'])"
   ]
  },
  {
   "cell_type": "code",
   "execution_count": null,
   "metadata": {},
   "outputs": [],
   "source": []
  }
 ],
 "metadata": {
  "kernelspec": {
   "display_name": ".venv",
   "language": "python",
   "name": "python3"
  },
  "language_info": {
   "codemirror_mode": {
    "name": "ipython",
    "version": 3
   },
   "file_extension": ".py",
   "mimetype": "text/x-python",
   "name": "python",
   "nbconvert_exporter": "python",
   "pygments_lexer": "ipython3",
   "version": "3.9.19"
  }
 },
 "nbformat": 4,
 "nbformat_minor": 2
}
