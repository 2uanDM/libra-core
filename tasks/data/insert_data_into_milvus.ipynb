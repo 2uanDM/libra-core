{
 "cells": [
  {
   "cell_type": "code",
   "execution_count": 1,
   "metadata": {},
   "outputs": [
    {
     "name": "stderr",
     "output_type": "stream",
     "text": [
      "/home/gcp_dpf/libra-core/.venv/lib/python3.9/site-packages/sentence_transformers/cross_encoder/CrossEncoder.py:11: TqdmWarning: IProgress not found. Please update jupyter and ipywidgets. See https://ipywidgets.readthedocs.io/en/stable/user_install.html\n",
      "  from tqdm.autonotebook import tqdm, trange\n"
     ]
    }
   ],
   "source": [
    "from libra.retrievers import VectorRetriever\n",
    "from libra.vectordb import MilvusStorage, QdrantStorage\n",
    "from libra.embeddings import SentenceTransformerEncoder, OpenAIEmbedding\n",
    "from qdrant_client import QdrantClient\n",
    "\n",
    "import os\n",
    "from dotenv import load_dotenv\n",
    "\n",
    "load_dotenv(override=True)\n",
    "\n",
    "embedding_instance = SentenceTransformerEncoder()"
   ]
  },
  {
   "cell_type": "code",
   "execution_count": 2,
   "metadata": {},
   "outputs": [],
   "source": [
    "client = QdrantClient(\n",
    "    path='./libra_qdrant.db'\n",
    ")\n",
    "\n",
    "mb_info_storage_instance = QdrantStorage(\n",
    "    client=client,\n",
    "    vector_dim=embedding_instance.get_output_dim(),\n",
    "    collection_name=\"MBInfo\"\n",
    ")\n",
    "# mb_info_storage_instance.clear()"
   ]
  },
  {
   "cell_type": "code",
   "execution_count": 3,
   "metadata": {},
   "outputs": [],
   "source": [
    "mb_info_retriever = VectorRetriever(\n",
    "    embedding_model=embedding_instance, \n",
    "    storage=mb_info_storage_instance\n",
    ")"
   ]
  },
  {
   "cell_type": "markdown",
   "metadata": {},
   "source": [
    "### Adding Company Profile"
   ]
  },
  {
   "cell_type": "code",
   "execution_count": 4,
   "metadata": {},
   "outputs": [],
   "source": [
    "from libra.loaders import read_file\n",
    "from io import BytesIO\n",
    "import json\n",
    "from libra.utils import json_to_well_formatted\n",
    "\n",
    "company_profiles = []\n",
    "\n",
    "\n",
    "file_path = os.path.join('..', '..', 'data', 'company_profile.csv')\n",
    "with open(file_path, \"rb\") as f:\n",
    "    file = BytesIO(f.read())\n",
    "    file.name = \"company_profile.csv\"\n",
    "    json_file = read_file(file)\n",
    "    for doc in json_file.docs:\n",
    "        doc_content = json.loads(doc['page_content'])    \n",
    "        company_profiles.append({\n",
    "            \"embed\": doc_content['Documents Topic'],\n",
    "            \"content\": json_to_well_formatted({\n",
    "                \"Topic\": doc_content['Documents Topic'],\n",
    "                \"Content\": doc_content['Document Content'],\n",
    "            })\n",
    "        })"
   ]
  },
  {
   "cell_type": "code",
   "execution_count": 5,
   "metadata": {},
   "outputs": [
    {
     "name": "stderr",
     "output_type": "stream",
     "text": [
      "100%|██████████| 148/148 [00:25<00:00,  5.76it/s]\n"
     ]
    }
   ],
   "source": [
    "mb_info_retriever.process(data=company_profiles, batch_size=1)"
   ]
  },
  {
   "cell_type": "code",
   "execution_count": 4,
   "metadata": {},
   "outputs": [
    {
     "name": "stdout",
     "output_type": "stream",
     "text": [
      "{'embed': 'Thông điệp của Tổng Giám đốc MB'}\n",
      "{'embed': 'RỦI RO MÔ HÌNH'}\n",
      "{'embed': 'Ngành nghề kinh doanh của MB'}\n",
      "{'embed': 'Thông điệp của Chủ tịch Hội đồng Quản trị MB'}\n",
      "{'embed': 'Cơ chế khiếu nại, báo cáo sai phạm tại MB'}\n"
     ]
    }
   ],
   "source": [
    "results = mb_info_retriever.query(query=\"tôi thấy có người mang bom vào MB\", top_k=5)\n",
    "\n",
    "for entry in results:\n",
    "    print(entry['metadata'])"
   ]
  },
  {
   "cell_type": "markdown",
   "metadata": {},
   "source": [
    "### Adding jobs"
   ]
  },
  {
   "cell_type": "code",
   "execution_count": 5,
   "metadata": {},
   "outputs": [],
   "source": [
    "job_storage_instance = QdrantStorage(\n",
    "    client = client,\n",
    "    vector_dim=embedding_instance.get_output_dim(),\n",
    "    collection_name=\"jobs\"\n",
    ")\n",
    "# job_storage_instance.clear()"
   ]
  },
  {
   "cell_type": "code",
   "execution_count": 6,
   "metadata": {},
   "outputs": [],
   "source": [
    "job_retriever = VectorRetriever(\n",
    "    embedding_model=embedding_instance,\n",
    "    storage=job_storage_instance\n",
    ")"
   ]
  },
  {
   "cell_type": "code",
   "execution_count": 7,
   "metadata": {},
   "outputs": [],
   "source": [
    "import re\n",
    "\n",
    "def parse_salaries(salary_data):\n",
    "    salaries = (\"\", \"\")\n",
    "    lines = salary_data.split('\\n')\n",
    "    \n",
    "    for line in lines:\n",
    "        line = line.strip()\n",
    "        if not line:\n",
    "            continue\n",
    "        \n",
    "        # Check for \"a - b VND\" format\n",
    "        match = re.match(r'(\\d{1,3}(?:,\\d{3})*) - (\\d{1,3}(?:,\\d{3})*)\\s*VNĐ', line)\n",
    "        if match:\n",
    "            min_salary = match.group(1).replace(',', '')\n",
    "            max_salary = match.group(2).replace(',', '')\n",
    "        else:\n",
    "            # For other formats, set min and max to the same value\n",
    "            # Remove \"VNĐ\" and any leading/trailing whitespace\n",
    "            value = line.replace('VNĐ', '').strip()\n",
    "            \n",
    "            if value in ['Lương thỏa thuận', 'Cạnh Tranh']:\n",
    "                min_salary = max_salary = value\n",
    "            else:\n",
    "                # Try to extract a number if present\n",
    "                number_match = re.search(r'\\d{1,3}(?:,\\d{3})*', value)\n",
    "                if number_match:\n",
    "                    salary_value = int(number_match.group().replace(',', ''))\n",
    "                    min_salary = max_salary = salary_value\n",
    "                else:\n",
    "                    min_salary = max_salary = value\n",
    "\n",
    "        salaries = (min_salary, max_salary)\n",
    "    \n",
    "    return salaries\n",
    "\n",
    "def is_number(s):\n",
    "    return s.isdigit()"
   ]
  },
  {
   "cell_type": "code",
   "execution_count": 8,
   "metadata": {},
   "outputs": [],
   "source": [
    "from libra.loaders import read_file\n",
    "from io import BytesIO\n",
    "import json\n",
    "from pprint import pprint\n",
    "\n",
    "jobs = []\n",
    "\n",
    "keys_to_extract = [\"title\", \"workplace\", \"industry\", \"welfare\", \"min_salary\", \"max_salary\"]\n",
    "\n",
    "file_path = os.path.join('..', '..', 'data', 'jobs_data.json')\n",
    "with open(file_path, \"rb\") as f:\n",
    "    file = BytesIO(f.read())\n",
    "    file.name = \"jobs_data.json\"\n",
    "    json_file = read_file(file)\n",
    "    for doc in json_file.docs:\n",
    "        doc_content = json.loads(doc['page_content']) \n",
    "        a, b = parse_salaries(doc_content['salary'])\n",
    "        if is_number(a):\n",
    "            a +=' VNĐ' # type: ignore\n",
    "            \n",
    "        if is_number(b):\n",
    "            b +=' VNĐ' # type: ignore\n",
    "        \n",
    "        doc_content['min_salary'] = a\n",
    "        doc_content['max_salary'] = b\n",
    "            \n",
    "        job = {\n",
    "            \"embed\": str({key: doc_content[key] for key in keys_to_extract}),\n",
    "            \"content\": str(doc_content)\n",
    "        }\n",
    "        jobs.append(job)"
   ]
  },
  {
   "cell_type": "code",
   "execution_count": 15,
   "metadata": {},
   "outputs": [
    {
     "data": {
      "text/plain": [
       "\"{'_id': {'$oid': '66c015512d62a130f80804b2'}, 'url': 'https://tuyendung.mbbank.com.vn/viec-lam/chuyen-vien-cvcc-quan-tri-rui-ro-mo-hinh-khoi-quan-tri-rui-ro.35aa58be.html', 'title': 'Chuyên viên/CVCC Quản trị rủi ro mô hình - Khối Quản trị rủi ro', 'workplace': 'Hà Nội', 'job_rank': 'Nhân viên', 'job_form': 'Nhân viên chính thức', 'experience': '1 - 10 Năm', 'salary': 'Lương thỏa thuận', 'industry': 'Ngân hàng, Tài chính / Đầu tư', 'deadline_applications': '30/05/2024', 'welfare': ['Bảo hiểm', 'Du Lịch', 'Thưởng', 'Chăm sóc sức khỏe', 'Đào tạo', 'Tăng lương'], 'job_detail': [], 'job_requirements': [], 'job_tags': ['Chuyên viên/CVCC Quản trị rủi ro mô hình - Khối Quản trị rủi ro'], 'min_salary': 'Lương thỏa thuận', 'max_salary': 'Lương thỏa thuận'}\""
      ]
     },
     "execution_count": 15,
     "metadata": {},
     "output_type": "execute_result"
    }
   ],
   "source": [
    "jobs[-1]['content']"
   ]
  },
  {
   "cell_type": "code",
   "execution_count": 54,
   "metadata": {},
   "outputs": [],
   "source": [
    "job_storage_instance.clear()"
   ]
  },
  {
   "cell_type": "code",
   "execution_count": 9,
   "metadata": {},
   "outputs": [
    {
     "name": "stderr",
     "output_type": "stream",
     "text": [
      "100%|██████████| 365/365 [02:45<00:00,  2.21it/s]\n"
     ]
    }
   ],
   "source": [
    "job_retriever.process(jobs, batch_size=1)"
   ]
  },
  {
   "cell_type": "code",
   "execution_count": 8,
   "metadata": {},
   "outputs": [
    {
     "name": "stdout",
     "output_type": "stream",
     "text": [
      "{'_id': {'$oid': '66c015512d62a130f8080447'}, 'url': 'https://tuyendung.mbbank.com.vn/viec-lam/chuyen-vien-ub-chuyen-vien-tu-van-cn-nam-hai-phong.35aa78b2.html', 'title': 'Chuyên viên UB (Chuyên viên Tư vấn) - CN. Nam Hải Phòng', 'workplace': 'Hải Phòng', 'job_rank': 'Nhân viên', 'job_form': 'Nhân viên chính thức', 'degree': 'Đại học', 'experience': '1 Năm', 'salary': '8,000,000 - 15,000,000  VNĐ', 'industry': 'Dịch vụ khách hàng, Ngân hàng, Tài chính / Đầu tư', 'deadline_applications': '30/05/2024', 'welfare': ['Bảo hiểm', 'Du Lịch', 'Phụ cấp', 'Du lịch nước ngoài', 'Đồng phục', 'Thưởng', 'Chăm sóc sức khỏe', 'Đào tạo', 'Tăng lương', 'Công tác phí', 'Phụ cấp thâm niên', 'Chế độ nghỉ phép', 'Chế độ tập thể dục'], 'job_detail': ['Thực hiện công tác bán hàng tại sàn giao dịch chi nhánh: tư vấn và bán các sản phẩm, dịch vụ của MB cho Khách hàng cá nhân bao gồm: Huy động vốn, tài khoản thanh toán, thẻ, ngân hàng điện tử…\\xa0Bán chéo sản phẩm dịch vụ của MB…', 'Thực hiện cung cấp dịch vụ tại sàn giao dịch chi nhánh', 'Tiếp nhận và giải quyết khiếu nại, thắc mắc của khách hàng, hỗ trợ khách hàng; chào đón, phân luồng và tư vấn khách hàng', 'Thực hiện các công việc khác theo phân công của Cán bộ quản lý trực tiếp phù hợp với năng lực và phạm vi công việc.'], 'job_requirements': ['Tốt nghiệp Đại học\\xa0trở lên', 'Hiểu biết các kiến thức về sản phẩm, dịch vụ của Ngân hàng dành cho Khách hàng cá nhân', 'Ưu tiên ứng viên có kinh nghiệm\\xa0ở vị trí quan hệ khách hàng/Giao dịch viên/Chăm sóc khách hàng/Nhân viên kinh doanh...', 'Kỹ năng bán hàng, kỹ năng giao tiếp tốt', 'Ngoại hình khá (Nam cao 1m65 trở lên, nữ cao 1m56\\xa0trở lên)', 'Thành thạo tin học văn phòng cơ bản (word, excel, outlook…)'], 'job_tags': ['Chuyên viên UB Chuyên viên Tư vấn - CN. Nam Hải Phòng'], 'min_salary': '8000000 VNĐ', 'max_salary': '15000000 VNĐ'}\n",
      "{'_id': {'$oid': '66c015512d62a130f8080397'}, 'url': 'https://tuyendung.mbbank.com.vn/viec-lam/cn-hau-giang-chuyen-vien-ub.35aa877e.html', 'title': 'CN Hậu Giang - Chuyên viên UB', 'workplace': 'Hậu Giang', 'job_rank': 'Nhân viên', 'job_form': 'Nhân viên chính thức', 'experience': 'Không yêu cầu kinh nghiệm', 'salary': '10,000,000 - 35,000,000  VNĐ', 'industry': 'Bán hàng / Kinh doanh, Ngân hàng, Tài chính / Đầu tư', 'deadline_applications': '30/06/2024', 'welfare': ['Bảo hiểm', 'Du Lịch', 'Phụ cấp', 'Du lịch nước ngoài', 'Đồng phục', 'Thưởng', 'Chăm sóc sức khỏe', 'Đào tạo', 'Tăng lương', 'Công tác phí', 'Phụ cấp thâm niên', 'Chế độ nghỉ phép', 'Chế độ tập thể dục'], 'job_detail': ['Thực hiện công tác bán hàng tại sàn giao dịch,\\xa0tư vấn và bán các sản phẩm, dịch vụ của MB cho Khách hàng cá nhân bao gồm: Huy động vốn, tài khoản thanh toán, thẻ, ngân hàng điện tử…; bán chéo sản phẩm dịch vụ của MB …', 'Thực hiện cung cấp dịch vụ tại sàn giao dịch chi nhánh.', 'Tiếp nhận và giải quyết khiếu nại, thắc mắc của khách hàng, hỗ trợ khách hàng; chào đón, phân luồng và tư vấn khách hàng.', 'Thực hiện các công việc khác theo phân công của Cán bộ quản lý trực tiếp phù hợp với năng lực và phạm vi công việc.'], 'job_requirements': ['Tốt nghiệp Đại học\\xa0trở lên.', 'Hiểu biết các kiến thức về sản phẩm, dịch vụ của Ngân hàng dành cho Khách hàng cá nhân.', 'Ưu tiên ứng viên có kinh nghiệm\\xa0ở vị trí Quan hệ khách hàng/ Giao dịch viên/ Chăm sóc khách hàng/ Nhân viên kinh doanh...', 'Kỹ năng bán hàng, kỹ năng giao tiếp tốt.', 'Thành thạo tin học văn phòng cơ bản (word, excel, outlook…)', 'Kỹ năng bán hàng, kỹ năng giao tiếp tốt.', 'Ngoại ngữ: TOEIC 450 trở lên hoặc chứng chỉ tương đương.'], 'job_tags': ['CN Hậu Giang - Chuyên viên UB'], 'min_salary': '10000000 VNĐ', 'max_salary': '35000000 VNĐ'}\n",
      "{'_id': {'$oid': '66c015512d62a130f8080456'}, 'url': 'https://tuyendung.mbbank.com.vn/viec-lam/chuyen-vien-ub-chuyen-vien-tu-van-cn-nghi-son-thanh-hoa-.35aa77de.html', 'title': 'Chuyên viên UB (Chuyên viên Tư vấn) - CN. Nghi Sơn (Thanh Hóa)', 'workplace': 'Thanh Hóa', 'job_rank': 'Nhân viên', 'job_form': 'Nhân viên chính thức', 'degree': 'Đại học', 'experience': '1 Năm', 'salary': '8,000,000 - 15,000,000  VNĐ', 'industry': 'Dịch vụ khách hàng, Ngân hàng, Tài chính / Đầu tư', 'deadline_applications': '30/05/2024', 'welfare': ['Bảo hiểm', 'Du Lịch', 'Phụ cấp', 'Du lịch nước ngoài', 'Đồng phục', 'Thưởng', 'Chăm sóc sức khỏe', 'Đào tạo', 'Tăng lương', 'Công tác phí', 'Phụ cấp thâm niên', 'Chế độ nghỉ phép', 'Chế độ tập thể dục'], 'job_detail': ['Thực hiện công tác bán hàng tại sàn giao dịch chi nhánh: tư vấn và bán các sản phẩm, dịch vụ của MB cho Khách hàng cá nhân bao gồm: Huy động vốn, tài khoản thanh toán, thẻ, ngân hàng điện tử…\\xa0Bán chéo sản phẩm dịch vụ của MB…', 'Thực hiện cung cấp dịch vụ tại sàn giao dịch chi nhánh', 'Tiếp nhận và giải quyết khiếu nại, thắc mắc của khách hàng, hỗ trợ khách hàng; chào đón, phân luồng và tư vấn khách hàng', 'Thực hiện các công việc khác theo phân công của Cán bộ quản lý trực tiếp phù hợp với năng lực và phạm vi công việc.'], 'job_requirements': ['Tốt nghiệp Đại học\\xa0trở lên', 'Hiểu biết các kiến thức về sản phẩm, dịch vụ của Ngân hàng dành cho Khách hàng cá nhân', 'Ưu tiên ứng viên có kinh nghiệm\\xa0ở vị trí quan hệ khách hàng/Giao dịch viên/Chăm sóc khách hàng/Nhân viên kinh doanh...', 'Kỹ năng bán hàng, kỹ năng giao tiếp tốt', 'Ngoại hình khá (Nam cao 1m65 trở lên, nữ cao 1m56\\xa0trở lên)', 'Thành thạo tin học văn phòng cơ bản (word, excel, outlook…)'], 'job_tags': ['Chuyên viên UB Chuyên viên Tư vấn - CN. Nghi Sơn Thanh Hóa'], 'min_salary': '8000000 VNĐ', 'max_salary': '15000000 VNĐ'}\n",
      "{'_id': {'$oid': '66c015512d62a130f808035a'}, 'url': 'https://tuyendung.mbbank.com.vn/viec-lam/chuyen-vien-ub-chuyen-vien-tu-van-ha-noi.35aa8967.html', 'title': 'Chuyên viên UB (Chuyên viên tư vấn) - Hà Nội', 'workplace': 'Hà Nội', 'job_rank': 'Nhân viên', 'job_form': 'Nhân viên chính thức', 'experience': '1 Năm', 'salary': '10,000,000 - 50,000,000  VNĐ', 'industry': 'Dịch vụ khách hàng, Ngân hàng, Tài chính / Đầu tư', 'deadline_applications': '16/06/2024', 'welfare': ['Máy tính xách tay', 'Bảo hiểm', 'Du Lịch', 'Phụ cấp', 'Đồng phục', 'Thưởng', 'Chăm sóc sức khỏe', 'Đào tạo', 'Tăng lương', 'Công tác phí', 'Phụ cấp thâm niên', 'Chế độ nghỉ phép'], 'job_detail': ['Thực hiện công tác phát triển kinh doanh tại sàn giao dịch\\xa0và quầy khách hàng Ưu tiên của chi nhánh: tư vấn và kinh doanh các sản phẩm, dịch vụ của MB cho Khách hàng cá nhân và Khách hàng Ưu tiên\\xa0bao gồm: Huy động vốn, đầu tư trái phiếu, chứng chỉ quỹ,\\xa0tài khoản thanh toán, thẻ, ngân hàng điện tử…', 'Thực hiện cung cấp dịch vụ Chi nhánh.', 'Tiếp nhận và giải quyết khiếu nại, thắc mắc của khách hàng, hỗ trợ khách hàng; chào đón, phân luồng và tư vấn khách hàng theo phân khúc Mass và VIP.'], 'job_requirements': ['Tốt nghiệp Đại học', 'Hiểu biết các kiến thức về sản phẩm, dịch vụ của Ngân hàng dành cho Khách hàng cá nhân thông thường hoặc Khách hàng Ưu tiên.', 'Ưu tiên ứng viên có kinh nghiệm\\xa0 ở vị trí quan hệ khách hàng/Giao dịch viên/Chăm sóc khách hàng/Nhân viên kinh doanh...', 'Ngoại hình khá (Nam cao 1m65 trở lên, nữ cao 1m58 trở lên)', 'Thành thạo tin học văn phòng cơ bản (word, excel, outlook…)'], 'job_tags': ['Chuyên viên Tư Vấn', 'Nhân viên tư vấn', 'Tư vấn viên', 'Consultant', 'Counsellor', 'Consultant Executive', 'Chuyên viên UB Chuyên viên Tư vấn', 'Priority', 'Khách hàng Ưu tiên', 'Dịch vụ Khách hàng'], 'min_salary': '10000000 VNĐ', 'max_salary': '50000000 VNĐ'}\n",
      "{'_id': {'$oid': '66c015512d62a130f808045e'}, 'url': 'https://tuyendung.mbbank.com.vn/viec-lam/chuyen-vien-ub-chuyen-vien-tu-van-khu-vuc-long-bien.35aa70b2.html', 'title': 'Chuyên viên UB (Chuyên viên Tư vấn) - Khu vực Long Biên', 'workplace': 'Hà Nội', 'job_rank': 'Nhân viên', 'job_form': 'Nhân viên chính thức', 'experience': '1 Năm', 'salary': '15,000,000 - 25,000,000  VNĐ', 'industry': 'Dịch vụ khách hàng, Ngân hàng, Tài chính / Đầu tư', 'deadline_applications': '01/06/2024', 'welfare': ['Bảo hiểm', 'Du Lịch', 'Phụ cấp', 'Du lịch nước ngoài', 'Đồng phục', 'Thưởng', 'Chăm sóc sức khỏe', 'Đào tạo', 'Tăng lương', 'Phụ cấp thâm niên', 'Chế độ nghỉ phép'], 'job_detail': ['Thực hiện công tác bán hàng tại sàn giao dịch chi nhánh: tư vấn và bán các sản phẩm, dịch vụ của MB cho Khách hàng cá nhân bao gồm: Huy động vốn, tài khoản thanh toán, thẻ, ngân hàng điện tử…\\xa0Bán chéo sản phẩm dịch vụ của MB…', 'Thực hiện cung cấp dịch vụ tại sàn giao dịch chi nhánh', 'Tiếp nhận và giải quyết khiếu nại, thắc mắc của khách hàng, hỗ trợ khách hàng; chào đón, phân luồng và tư vấn khách hàng', 'Thực hiện các công việc khác theo phân công của Cán bộ quản lý trực tiếp phù hợp với năng lực và phạm vi công việc.'], 'job_requirements': ['Tốt nghiệp Đại học\\xa0các chuyên ngành kinh tế, tài chính, ngân hàng...', 'Hiểu biết các kiến thức về sản phẩm, dịch vụ của Ngân hàng dành cho Khách hàng cá nhân', 'Kỹ năng bán hàng, kỹ năng giao tiếp tốt', 'Ngoại hình khá (Nam cao 1m68\\xa0trở lên, nữ cao 1m60 trở lên)', 'Thành thạo tin học văn phòng cơ bản (word, excel, outlook…)', 'Ưu tiên ứng viên có ngoại ngữ tốt'], 'job_tags': [], 'min_salary': '15000000 VNĐ', 'max_salary': '25000000 VNĐ'}\n"
     ]
    }
   ],
   "source": [
    "for entry in job_retriever.query(\"nghề UB ở Hải Phòng\", top_k=5):\n",
    "    print(entry['text'])"
   ]
  },
  {
   "cell_type": "code",
   "execution_count": null,
   "metadata": {},
   "outputs": [],
   "source": []
  }
 ],
 "metadata": {
  "kernelspec": {
   "display_name": ".venv",
   "language": "python",
   "name": "python3"
  },
  "language_info": {
   "codemirror_mode": {
    "name": "ipython",
    "version": 3
   },
   "file_extension": ".py",
   "mimetype": "text/x-python",
   "name": "python",
   "nbconvert_exporter": "python",
   "pygments_lexer": "ipython3",
   "version": "3.9.19"
  }
 },
 "nbformat": 4,
 "nbformat_minor": 2
}
