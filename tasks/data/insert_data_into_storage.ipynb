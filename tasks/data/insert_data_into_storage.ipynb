{
 "cells": [
  {
   "cell_type": "code",
   "execution_count": 1,
   "metadata": {},
   "outputs": [
    {
     "name": "stderr",
     "output_type": "stream",
     "text": [
      "/home/gcp_dpf/libra-core/.venv/lib/python3.9/site-packages/sentence_transformers/cross_encoder/CrossEncoder.py:11: TqdmWarning: IProgress not found. Please update jupyter and ipywidgets. See https://ipywidgets.readthedocs.io/en/stable/user_install.html\n",
      "  from tqdm.autonotebook import tqdm, trange\n"
     ]
    }
   ],
   "source": [
    "from libra.retrievers import VectorRetriever\n",
    "from libra.vectordb import MilvusStorage, QdrantStorage\n",
    "from libra.embeddings import SentenceTransformerEncoder, OpenAIEmbedding\n",
    "from qdrant_client import QdrantClient\n",
    "\n",
    "import os\n",
    "from dotenv import load_dotenv\n",
    "\n",
    "load_dotenv(override=True)\n",
    "\n",
    "embedding_instance = SentenceTransformerEncoder()"
   ]
  },
  {
   "cell_type": "code",
   "execution_count": 2,
   "metadata": {},
   "outputs": [],
   "source": [
    "client = QdrantClient(\n",
    "    path='../../libra_qdrant.db'\n",
    ")\n",
    "\n",
    "mb_info_storage_instance = QdrantStorage(\n",
    "    client=client,\n",
    "    vector_dim=embedding_instance.get_output_dim(),\n",
    "    collection_name=\"MBInfo\"\n",
    ")\n",
    "mb_info_storage_instance.clear()"
   ]
  },
  {
   "cell_type": "code",
   "execution_count": 3,
   "metadata": {},
   "outputs": [],
   "source": [
    "mb_info_retriever = VectorRetriever(\n",
    "    embedding_model=embedding_instance, \n",
    "    storage=mb_info_storage_instance\n",
    ")"
   ]
  },
  {
   "cell_type": "markdown",
   "metadata": {},
   "source": [
    "### Adding Company Profile"
   ]
  },
  {
   "cell_type": "code",
   "execution_count": 4,
   "metadata": {},
   "outputs": [],
   "source": [
    "from libra.loaders import read_file\n",
    "from io import BytesIO\n",
    "import json\n",
    "from libra.utils import json_to_well_formatted\n",
    "\n",
    "company_profiles = []\n",
    "\n",
    "\n",
    "file_path = os.path.join('..', '..', 'data', 'mb_company_profile_summarized.csv')\n",
    "with open(file_path, \"rb\") as f:\n",
    "    file = BytesIO(f.read())\n",
    "    file.name = \"mb_company_profile_summarized.csv\"\n",
    "    json_file = read_file(file)\n",
    "    for doc in json_file.docs:\n",
    "        doc_content = json.loads(doc['page_content'])    \n",
    "        company_profiles.append({\n",
    "            \"embed\": doc_content['summary'],\n",
    "            \"content\": f\"\"\"\n",
    "topic: {doc_content['topic']},\n",
    "summary: {doc_content['summary']}\n",
    "content: {doc_content['content']}\n",
    "            \"\"\"\n",
    "        })"
   ]
  },
  {
   "cell_type": "code",
   "execution_count": 5,
   "metadata": {},
   "outputs": [
    {
     "name": "stderr",
     "output_type": "stream",
     "text": [
      "100%|██████████| 128/128 [00:35<00:00,  3.63it/s]\n"
     ]
    }
   ],
   "source": [
    "mb_info_retriever.process(data=company_profiles, batch_size=1)"
   ]
  },
  {
   "cell_type": "code",
   "execution_count": 10,
   "metadata": {},
   "outputs": [
    {
     "name": "stdout",
     "output_type": "stream",
     "text": [
      "\n",
      "topic: None,\n",
      "summary: Ngân hàng MB có 26,5 triệu khách hàng trong năm 2023.\n",
      "content: Số lượng khách hàng của MB trong năm 2023 là 26,5 triệu khách hàng\n",
      "            \n",
      "\n",
      "topic: Thông điệp của Tổng Giám đốc MB,\n",
      "summary: MB đặt mục tiêu trở thành doanh nghiệp số và tập đoàn tài chính dẫn đầu vào năm 2026, với chiến lược tập trung vào trải nghiệm khách hàng, sáng tạo giá trị mới và phát triển bền vững. Năm 2023, MB đạt 26,5 triệu khách hàng, tổng tài sản 950 nghìn tỷ đồng, và lợi nhuận 26 nghìn tỷ đồng.\n",
      "content: Năm 2024, MB tiếp tục kiên định với tầm nhìn đến năm 2026 “Trở thành Doanh nghiệp số, Tập đoàn tài chính dẫn đầu” cùng mục tiêu chiến lược nằm trong “Top 3 thị trường về hiệu quả, hướng đến Top đầu châu Á.” Chiến lược của MB được xây dựng trên cơ sở Tập trung vào trải nghiệm của khách hàng; Sáng tạo ra các giá trị mới phục vụ khách hàng từ đó gia tăng giá trị cho MB. Xuyên suốt theo đó là một văn hóa quản trị thống nhất, lấy triết lý “Khách hàng là trung tâm” dựa trên các yếu tố: (1) Hấp dẫn khách hàng: Xây dựng trải nghiệm xuất sắc - Xuất phát từ nhu cầu và vươn tới kỳ vọng của khách hàng. (2) Linh hoạt, nhanh nhạy: Đón bắt nhanh - Tận dụng triệt để - Khai thác hiệu quả công nghệ, thị trường, nhu cầu khách hàng. (3) Hiệp lực tập đoàn: Toàn Tập đoàn kết nối, xây dựng trải nghiệm số One ID; đề xuất giá trị tập đoàn xuất sắc.\n",
      "\n",
      "Trong bối cảnh nền kinh tế toàn cầu năm 2023 đối mặt với những thách thức không nhỏ từ sự suy giảm kinh tế toàn cầu, Ngân hàng TMCP Quân Đội (MB) không chỉ vững vàng vượt qua khó khăn mà còn tạo ra những đột phá trong chiến lược chuyển đổi số – thể hiện qua cú nhảy vọt về quy mô khách hàng, lũy kế đến năm 2023 đạt 26,5 triệu khách hàng, tăng gấp 8 lần so với năm 2017 và là ngân hàng có số lượng khách hàng lớn nhất Việt Nam. Đến cuối năm 2023, tổng tài sản MB tăng 29% đạt xấp xỉ 950 nghìn tỷ đồng; tín dụng tăng hơn 28,8% đạt 615 nghìn tỷ dư nợ cho vay đối với nền kinh tế; lợi nhuận toàn tập đoàn đạt hơn 26 nghìn tỷ đồng. MB là ngân hàng top đầu về việc cung cấp dịch vụ và sản phẩm đa dạng, an toàn; sở hữu hạ tầng công nghệ thông tin hiện đại; mở rộng mạnh mẽ các phân khúc thị trường mới bên cạnh thị trường truyền thống của một ngân hàng thương mại. Với lợi thế đó, MB đã kết nối dịch vụ BaaS \n",
      "đến doanh nghiệp từ đa dạng các lĩnh vực như: Tài chính, logistics, chứng khoán… thông qua hơn 600 bộ APIs - một trong những ngân hàng sở hữu lượng API đa dạng nhất. Chúng tôi kỳ vọng dịch vụ BaaS của MB sẽ từng bước chuyển mình mạnh mẽ, khẳng định cam kết đồng hành cùng doanh nghiệp trong quá trình chuyển đổi số. Bên cạnh đó, đội ngũ MB đã tập trung xây dựng và phát triển Chợ ứng dụng Mini App (MB Market Place) với mục tiêu góp phần chuyển đổi App MBBank thành một nền tảng siêu ứng dụng, tích hợp nhiều dịch vụ non-bank (phi ngân hàng) trên một nền tảng để phục vụ các nhu cầu khác nhau hàng ngày của hơn 20 triệu người dùng. Trong bối cảnh chuyển đổi số hóa mạnh mẽ, MB không chỉ đặt mục tiêu tăng trưởng kinh doanh mà còn chú trọng đến vai trò của doanh nghiệp đối với xã hội và môi trường. Đầu năm 2023, ngân hàng đã thể hiện cam kết mạnh mẽ đối với chiến lược ESG (Môi trường, Xã hội và Quản trị), tuân theo các chuẩn đo lường quốc tế, nhấn mạnh vào việc tạo ra tác động tích cực cho khách hàng và môi trường. Theo định hướng của Chính phủ và Ngân hàng Nhà nước, \n",
      "MB đã nghiên cứu và hoàn thiện cơ chế chính sách tín dụng gắn với quản lý môi trường - xã hội, hướng tới mục tiêu ngân hàng xanh, tín dụng xanh, cung cấp dịch vụ tín dụng và thanh toán trong các lĩnh vực thân thiện với môi trường. MB đã đạt được những bước tiến lớn trong việc phát triển tín dụng xanh, với tổng giá trị đạt 56,829 tỷ đồng, tăng 22% so với năm 2022. Điều này tập trung vào các lĩnh vực năng lượng sạch, tái tạo và công nghiệp, phản ánh rõ ràng sự chuyển hướng mạnh mẽ của ngân hàng đối với các hoạt động tài chính bền vững. MB cũng đã áp dụng số hoá trong 90% hoạt động nội bộ, giảm bớt sự phụ thuộc vào giấy tờ và hướng tới một môi trường làm việc xanh, với mục tiêu đạt tỷ lệ 100%. \n",
      "Vào cuối năm 2023, MB đã phát động chiến dịch Hi-Green, chiến dịch trách nhiệm xã hội cộng hưởng thuộc chiến lược ESG của ngân hàng. HiGreen thu hút người tham gia vận động thể thao, ủng hộ trực tiếp và tích luỹ thiện nguyện thông minh. Theo đó, với mỗi km chạy bộ hoặc đi bộ hợp lệ, MB sẽ ủng hộ 3.000 VNĐ từ quỹ Từ thiện xã hội của tập đoàn \n",
      "tài trợ cho các đơn vị biến đổi các bãi rác tự phát thành không gian sinh thái cộng đồng, sân chơi công cộng. Sau khoảng 2 tháng, chiến dịch đã hoàn thành mục tiêu 8,1 tỷ để \n",
      "biến bãi rác tự phát thành sân chơi sinh thái cho cộng đồng. Với những bước phát triển mạnh mẽ và bền vững trong năm 2023, uy tín thương hiệu của MB tiếp tục được khẳng định ở \n",
      "những bảng xếp hạng và giải thưởng uy tín trong và ngoài nước. MB là một trong 6 ngân hàng được tạp chí Forbes xếp hạng là 6 ngân hàng niêm yết tốt nhất Việt Nam trong 3 năm \n",
      "liền (2021-2023) dựa theo các tiêu chí về hiệu quả hoạt động và lợi nhuận. Bên cạnh đó, mô hình ngân hàng tự động MB SmartBank được nhận hai giải thưởng quốc tế từ The Asset \n",
      "Tripple A Award - Best Digital Branch Project và The Global Economics - Digital Transformation Bank of the Year – đây là minh chứng rõ nét cho những nỗ lực chuyển đổi số, đặt \n",
      "khách hàng làm trung tâm của MB. \n",
      "Năm 2024, MB tiếp tục kiên định với tầm nhìn đến năm 2026 “Trở thành Doanh nghiệp số, Tập đoàn tài chính dẫn đầu” cùng mục tiêu chiến lược nằm trong “Top 3 thị trường về hiệu \n",
      "quả, hướng đến Top đầu châu Á.” Chiến lược của MB được xây dựng trên cơ sở Tập trung vào trải nghiệm của khách hàng; Sáng tạo ra các giá trị mới phục vụ khách hàng từ đó gia tăng giá trị cho MB. Xuyên suốt theo đó là một văn hóa quản trị thống nhất, lấy triết lý “Khách hàng là trung tâm” dựa trên các yếu tố:\n",
      " (1) Hấp dẫn khách hàng: Xây dựng trải nghiệm xuất sắc - Xuất phát từ nhu cầu và vươn tới kỳ vọng của khách hàng. \n",
      " (2) Linh hoạt, nhanh nhạy: Đón bắt nhanh - Tận dụng triệt để - Khai thác hiệu quả công nghệ, thị trường, nhu cầu khách hàng.\n",
      " (3) Hiệp lực tập đoàn: Toàn Tập đoàn kết nối, xây dựng trải nghiệm số One ID; đề xuất giá trị tập đoàn xuất sắc.\n",
      "Với mục tiêu phục vụ 30 triệu khách hàng vào năm 2024, lợi nhuận hợp nhất dự kiến đạt 30.000 tỷ và tổng tài sản đạt 1 triệu tỷ, MB đang hướng tới việc không chỉ là ngân hàng dẫn \n",
      "đầu trong lĩnh vực số hóa mà còn là ngân hàng tiên phong trong việc phát triển bền vững và có trách nhiệm xã hội. MB, với những bước tiến mạnh mẽ và chiến lược đổi mới, đang \n",
      "khẳng định vị thế của mình trên thị trường tài chính và sẵn sàng đón nhận những cơ hội mới trong tương lai của ngành ngân hàng số.\n",
      "            \n",
      "\n",
      "topic: Quá trình hình thành và phát triển của MB,\n",
      "summary: MB thành lập năm 1994 với vốn gần 20 tỷ đồng, sau 10 năm, tổng vốn huy động tăng gấp 500 lần, tổng tài sản trên 7.000 tỷ đồng, lợi nhuận trên 500 tỷ đồng và khai trương trụ sở mới.\n",
      "content: 1994 – 2004\n",
      "Ngày 4/11/1994, Ngân hàng Thương mại Cổ phần Quân đội (MB) được thành lập với số vốn gần 20 tỷ đồng, 25 nhân sự và một điểm giao dịch duy nhất tại 28A Điện Biên Phủ, Hà Nội. Mười năm đầu (1994-2004) là giai đoạn mang tính “mở lối” định hình phương châm hoạt động, xác định chiến lược kinh doanh và xác định thương hiệu. Năm 2004, tròn 10 năm thành lập, tổng vốn huy động của MB tăng gấp trên 500 lần, tổng tài sản trên 7.000 tỷ đồng, lợi nhuận trên 500 tỷ đồng và khai trương trụ sở mới tại số 3 Liễu Giai, Ba Đình, Hà Nội.\n",
      "            \n",
      "\n",
      "topic: None,\n",
      "summary: Tính đến 31/12/2023, MB có 16.234 nhân viên, tăng 1% so với năm 2022. MB chú trọng phát triển nhân viên trẻ, chuyên môn cao. MB tăng vốn điều lệ qua phát hành cổ phiếu trả cổ tức. Cổ đông tổ chức chiếm 80.514%, cá nhân 19.486%.\n",
      "content: Tổ chức và nhân sự\n",
      "\n",
      "Tổng quan nhân sự (tính đến 31/12/2023):\n",
      "\n",
      "Tập đoàn MB: 16.234 người, tăng 1% so với năm 2022\n",
      "Riêng ngành hàng: 10.481 người, tăng 5% so với năm 2022\n",
      "Phân bố nhân sự:\n",
      "\n",
      "Tập đoàn MB:\n",
      "Hà Nội và các tỉnh phía Bắc: 66%\n",
      "Hồ Chí Minh và các tỉnh phía Nam: 26%\n",
      "Các tỉnh thành khác và chi nhánh nước ngoài: 8%\n",
      "Ngành hàng:\n",
      "Tốt nghiệp đại học: 66%\n",
      "Trình độ thạc sĩ: 29%\n",
      "Trình độ tiến sĩ: 5%\n",
      "Chính sách nhân sự:\n",
      "\n",
      "MB chú trọng phát triển đội ngũ nhân viên trẻ, chuyên môn cao, và năng động.\n",
      "Tỷ lệ nhân viên gắn bó với MB trên 3 năm là 95%.\n",
      "Cơ cấu cổ đông, thay đổi vốn đầu tư của chủ sở hữu\n",
      "\n",
      "Cổ phần:\n",
      "\n",
      "Số lượng cổ phần phổ thông tại 31/12/2023: 5.214.084.052 cổ phần\n",
      "Không có cổ phần ưu đãi\n",
      "Cổ phần lưu hành tại thị trường nước ngoài: 4.207.031.691 cổ phần\n",
      "Cổ phần lưu hành trong nước: 1.007.052.361 cổ phần\n",
      "Tinh hình thay đổi vốn đầu tư của chủ sở hữu:\n",
      "\n",
      "Năm 2023, MB thực hiện tăng vốn điều lệ thông qua phát hành cổ phiếu để trả cổ tức cho các cổ đông hiện hữu từ lợi nhuận sau thuế đạt được (tỷ lệ trả cổ tức năm 2022 tỷ lệ là 15%).\n",
      "Giao dịch cổ phiếu quỹ:\n",
      "\n",
      "Số lượng cổ phiếu Quỹ tại thời điểm 31/12/2023: Không có\n",
      "Giao dịch cổ phiếu Quỹ trong năm 2023: Không có\n",
      "Cơ cấu cổ đông (tính đến 31/12/2023):\n",
      "\n",
      "STT | Đối tượng | Số lượng cổ đông | Số lượng cổ phần | Tỷ lệ sở hữu (%)\n",
      "Cổ đông tổ chức: 550 | 4.198.031.691 | 80.514\n",
      "Cổ đông cá nhân: 1.350.000 | 1.016.052.361 | 19.486\n",
      "Cổ đông nhà nước trên 50%: 2 | 2.207.031.691 | 42.327\n",
      "Cổ đông tư nhân trên 50%: 2 | 1.989.031.691 | 38.187\n",
      "Cổ đông nhà nước từ 10% đến dưới 50%: 3 | 414.052.361 | 8.485\n",
      "Cổ đông tư nhân từ 10% đến dưới 50%: 3 | 385.031.691 | 7.387\n",
      "Cổ đông nhà nước từ 5% đến dưới 10%: 5 | 280.000.000 | 5.374\n",
      "Cổ đông tư nhân từ 5% đến dưới 10%: 5 | 250.000.000 | 4.793\n",
      "Cổ đông nhà nước dưới 5%: 10 | 130.000.000 | 2.495\n",
      "Cổ đông tư nhân dưới 5%: 20 | 108.000.000 | 1.958\n",
      "            \n"
     ]
    }
   ],
   "source": [
    "results = mb_info_retriever.query(query=\"MB có bao nhiêu khách hàng?\", top_k=4)\n",
    "\n",
    "for entry in results:\n",
    "    print(entry['text'])"
   ]
  },
  {
   "cell_type": "markdown",
   "metadata": {},
   "source": [
    "### Adding jobs"
   ]
  },
  {
   "cell_type": "code",
   "execution_count": 11,
   "metadata": {},
   "outputs": [],
   "source": [
    "job_storage_instance = QdrantStorage(\n",
    "    client = client,\n",
    "    vector_dim=embedding_instance.get_output_dim(),\n",
    "    collection_name=\"jobs\"\n",
    ")\n",
    "job_storage_instance.clear()"
   ]
  },
  {
   "cell_type": "code",
   "execution_count": 12,
   "metadata": {},
   "outputs": [],
   "source": [
    "job_retriever = VectorRetriever(\n",
    "    embedding_model=embedding_instance,\n",
    "    storage=job_storage_instance\n",
    ")"
   ]
  },
  {
   "cell_type": "code",
   "execution_count": 13,
   "metadata": {},
   "outputs": [],
   "source": [
    "import re\n",
    "\n",
    "def parse_salaries(salary_data):\n",
    "    salaries = (\"\", \"\")\n",
    "    lines = salary_data.split('\\n')\n",
    "    \n",
    "    for line in lines:\n",
    "        line = line.strip()\n",
    "        if not line:\n",
    "            continue\n",
    "        \n",
    "        # Check for \"a - b VND\" format\n",
    "        match = re.match(r'(\\d{1,3}(?:,\\d{3})*) - (\\d{1,3}(?:,\\d{3})*)\\s*VNĐ', line)\n",
    "        if match:\n",
    "            min_salary = match.group(1).replace(',', '')\n",
    "            max_salary = match.group(2).replace(',', '')\n",
    "        else:\n",
    "            # For other formats, set min and max to the same value\n",
    "            # Remove \"VNĐ\" and any leading/trailing whitespace\n",
    "            value = line.replace('VNĐ', '').strip()\n",
    "            \n",
    "            if value in ['Lương thỏa thuận', 'Cạnh Tranh']:\n",
    "                min_salary = max_salary = value\n",
    "            else:\n",
    "                # Try to extract a number if present\n",
    "                number_match = re.search(r'\\d{1,3}(?:,\\d{3})*', value)\n",
    "                if number_match:\n",
    "                    salary_value = int(number_match.group().replace(',', ''))\n",
    "                    min_salary = max_salary = salary_value\n",
    "                else:\n",
    "                    min_salary = max_salary = value\n",
    "\n",
    "        salaries = (min_salary, max_salary)\n",
    "    \n",
    "    return salaries\n",
    "\n",
    "def is_number(s):\n",
    "    return s.isdigit()"
   ]
  },
  {
   "cell_type": "code",
   "execution_count": 14,
   "metadata": {},
   "outputs": [],
   "source": [
    "from libra.loaders import read_file\n",
    "from io import BytesIO\n",
    "import json\n",
    "from pprint import pprint\n",
    "\n",
    "jobs = []\n",
    "\n",
    "keys_to_extract = [\"title\", \"workplace\", \"industry\", \"welfare\", \"min_salary\", \"max_salary\"]\n",
    "\n",
    "file_path = os.path.join('..', '..', 'data', 'jobs_data.json')\n",
    "with open(file_path, \"rb\") as f:\n",
    "    file = BytesIO(f.read())\n",
    "    file.name = \"jobs_data.json\"\n",
    "    json_file = read_file(file)\n",
    "    for doc in json_file.docs:\n",
    "        doc_content = json.loads(doc['page_content']) \n",
    "        a, b = parse_salaries(doc_content['salary'])\n",
    "        if is_number(a):\n",
    "            a +=' VNĐ' # type: ignore\n",
    "            \n",
    "        if is_number(b):\n",
    "            b +=' VNĐ' # type: ignore\n",
    "        \n",
    "        doc_content['min_salary'] = a\n",
    "        doc_content['max_salary'] = b\n",
    "            \n",
    "        job = {\n",
    "            \"embed\": str({key: doc_content[key] for key in keys_to_extract}),\n",
    "            \"content\": str(doc_content)\n",
    "        }\n",
    "        jobs.append(job)"
   ]
  },
  {
   "cell_type": "code",
   "execution_count": 15,
   "metadata": {},
   "outputs": [
    {
     "data": {
      "text/plain": [
       "\"{'_id': {'$oid': '66c015512d62a130f80804b2'}, 'url': 'https://tuyendung.mbbank.com.vn/viec-lam/chuyen-vien-cvcc-quan-tri-rui-ro-mo-hinh-khoi-quan-tri-rui-ro.35aa58be.html', 'title': 'Chuyên viên/CVCC Quản trị rủi ro mô hình - Khối Quản trị rủi ro', 'workplace': 'Hà Nội', 'job_rank': 'Nhân viên', 'job_form': 'Nhân viên chính thức', 'experience': '1 - 10 Năm', 'salary': 'Lương thỏa thuận', 'industry': 'Ngân hàng, Tài chính / Đầu tư', 'deadline_applications': '30/05/2024', 'welfare': ['Bảo hiểm', 'Du Lịch', 'Thưởng', 'Chăm sóc sức khỏe', 'Đào tạo', 'Tăng lương'], 'job_detail': [], 'job_requirements': [], 'job_tags': ['Chuyên viên/CVCC Quản trị rủi ro mô hình - Khối Quản trị rủi ro'], 'min_salary': 'Lương thỏa thuận', 'max_salary': 'Lương thỏa thuận'}\""
      ]
     },
     "execution_count": 15,
     "metadata": {},
     "output_type": "execute_result"
    }
   ],
   "source": [
    "jobs[-1]['content']"
   ]
  },
  {
   "cell_type": "code",
   "execution_count": 15,
   "metadata": {},
   "outputs": [],
   "source": [
    "job_storage_instance.clear()"
   ]
  },
  {
   "cell_type": "code",
   "execution_count": 16,
   "metadata": {},
   "outputs": [
    {
     "name": "stderr",
     "output_type": "stream",
     "text": [
      "100%|██████████| 365/365 [03:44<00:00,  1.63it/s]\n"
     ]
    }
   ],
   "source": [
    "job_retriever.process(jobs, batch_size=1)"
   ]
  },
  {
   "cell_type": "code",
   "execution_count": 17,
   "metadata": {},
   "outputs": [
    {
     "name": "stdout",
     "output_type": "stream",
     "text": [
      "{'_id': {'$oid': '66c015512d62a130f8080447'}, 'url': 'https://tuyendung.mbbank.com.vn/viec-lam/chuyen-vien-ub-chuyen-vien-tu-van-cn-nam-hai-phong.35aa78b2.html', 'title': 'Chuyên viên UB (Chuyên viên Tư vấn) - CN. Nam Hải Phòng', 'workplace': 'Hải Phòng', 'job_rank': 'Nhân viên', 'job_form': 'Nhân viên chính thức', 'degree': 'Đại học', 'experience': '1 Năm', 'salary': '8,000,000 - 15,000,000  VNĐ', 'industry': 'Dịch vụ khách hàng, Ngân hàng, Tài chính / Đầu tư', 'deadline_applications': '30/05/2024', 'welfare': ['Bảo hiểm', 'Du Lịch', 'Phụ cấp', 'Du lịch nước ngoài', 'Đồng phục', 'Thưởng', 'Chăm sóc sức khỏe', 'Đào tạo', 'Tăng lương', 'Công tác phí', 'Phụ cấp thâm niên', 'Chế độ nghỉ phép', 'Chế độ tập thể dục'], 'job_detail': ['Thực hiện công tác bán hàng tại sàn giao dịch chi nhánh: tư vấn và bán các sản phẩm, dịch vụ của MB cho Khách hàng cá nhân bao gồm: Huy động vốn, tài khoản thanh toán, thẻ, ngân hàng điện tử…\\xa0Bán chéo sản phẩm dịch vụ của MB…', 'Thực hiện cung cấp dịch vụ tại sàn giao dịch chi nhánh', 'Tiếp nhận và giải quyết khiếu nại, thắc mắc của khách hàng, hỗ trợ khách hàng; chào đón, phân luồng và tư vấn khách hàng', 'Thực hiện các công việc khác theo phân công của Cán bộ quản lý trực tiếp phù hợp với năng lực và phạm vi công việc.'], 'job_requirements': ['Tốt nghiệp Đại học\\xa0trở lên', 'Hiểu biết các kiến thức về sản phẩm, dịch vụ của Ngân hàng dành cho Khách hàng cá nhân', 'Ưu tiên ứng viên có kinh nghiệm\\xa0ở vị trí quan hệ khách hàng/Giao dịch viên/Chăm sóc khách hàng/Nhân viên kinh doanh...', 'Kỹ năng bán hàng, kỹ năng giao tiếp tốt', 'Ngoại hình khá (Nam cao 1m65 trở lên, nữ cao 1m56\\xa0trở lên)', 'Thành thạo tin học văn phòng cơ bản (word, excel, outlook…)'], 'job_tags': ['Chuyên viên UB Chuyên viên Tư vấn - CN. Nam Hải Phòng'], 'min_salary': '8000000 VNĐ', 'max_salary': '15000000 VNĐ'}\n",
      "{'_id': {'$oid': '66c015512d62a130f8080397'}, 'url': 'https://tuyendung.mbbank.com.vn/viec-lam/cn-hau-giang-chuyen-vien-ub.35aa877e.html', 'title': 'CN Hậu Giang - Chuyên viên UB', 'workplace': 'Hậu Giang', 'job_rank': 'Nhân viên', 'job_form': 'Nhân viên chính thức', 'experience': 'Không yêu cầu kinh nghiệm', 'salary': '10,000,000 - 35,000,000  VNĐ', 'industry': 'Bán hàng / Kinh doanh, Ngân hàng, Tài chính / Đầu tư', 'deadline_applications': '30/06/2024', 'welfare': ['Bảo hiểm', 'Du Lịch', 'Phụ cấp', 'Du lịch nước ngoài', 'Đồng phục', 'Thưởng', 'Chăm sóc sức khỏe', 'Đào tạo', 'Tăng lương', 'Công tác phí', 'Phụ cấp thâm niên', 'Chế độ nghỉ phép', 'Chế độ tập thể dục'], 'job_detail': ['Thực hiện công tác bán hàng tại sàn giao dịch,\\xa0tư vấn và bán các sản phẩm, dịch vụ của MB cho Khách hàng cá nhân bao gồm: Huy động vốn, tài khoản thanh toán, thẻ, ngân hàng điện tử…; bán chéo sản phẩm dịch vụ của MB …', 'Thực hiện cung cấp dịch vụ tại sàn giao dịch chi nhánh.', 'Tiếp nhận và giải quyết khiếu nại, thắc mắc của khách hàng, hỗ trợ khách hàng; chào đón, phân luồng và tư vấn khách hàng.', 'Thực hiện các công việc khác theo phân công của Cán bộ quản lý trực tiếp phù hợp với năng lực và phạm vi công việc.'], 'job_requirements': ['Tốt nghiệp Đại học\\xa0trở lên.', 'Hiểu biết các kiến thức về sản phẩm, dịch vụ của Ngân hàng dành cho Khách hàng cá nhân.', 'Ưu tiên ứng viên có kinh nghiệm\\xa0ở vị trí Quan hệ khách hàng/ Giao dịch viên/ Chăm sóc khách hàng/ Nhân viên kinh doanh...', 'Kỹ năng bán hàng, kỹ năng giao tiếp tốt.', 'Thành thạo tin học văn phòng cơ bản (word, excel, outlook…)', 'Kỹ năng bán hàng, kỹ năng giao tiếp tốt.', 'Ngoại ngữ: TOEIC 450 trở lên hoặc chứng chỉ tương đương.'], 'job_tags': ['CN Hậu Giang - Chuyên viên UB'], 'min_salary': '10000000 VNĐ', 'max_salary': '35000000 VNĐ'}\n",
      "{'_id': {'$oid': '66c015512d62a130f8080456'}, 'url': 'https://tuyendung.mbbank.com.vn/viec-lam/chuyen-vien-ub-chuyen-vien-tu-van-cn-nghi-son-thanh-hoa-.35aa77de.html', 'title': 'Chuyên viên UB (Chuyên viên Tư vấn) - CN. Nghi Sơn (Thanh Hóa)', 'workplace': 'Thanh Hóa', 'job_rank': 'Nhân viên', 'job_form': 'Nhân viên chính thức', 'degree': 'Đại học', 'experience': '1 Năm', 'salary': '8,000,000 - 15,000,000  VNĐ', 'industry': 'Dịch vụ khách hàng, Ngân hàng, Tài chính / Đầu tư', 'deadline_applications': '30/05/2024', 'welfare': ['Bảo hiểm', 'Du Lịch', 'Phụ cấp', 'Du lịch nước ngoài', 'Đồng phục', 'Thưởng', 'Chăm sóc sức khỏe', 'Đào tạo', 'Tăng lương', 'Công tác phí', 'Phụ cấp thâm niên', 'Chế độ nghỉ phép', 'Chế độ tập thể dục'], 'job_detail': ['Thực hiện công tác bán hàng tại sàn giao dịch chi nhánh: tư vấn và bán các sản phẩm, dịch vụ của MB cho Khách hàng cá nhân bao gồm: Huy động vốn, tài khoản thanh toán, thẻ, ngân hàng điện tử…\\xa0Bán chéo sản phẩm dịch vụ của MB…', 'Thực hiện cung cấp dịch vụ tại sàn giao dịch chi nhánh', 'Tiếp nhận và giải quyết khiếu nại, thắc mắc của khách hàng, hỗ trợ khách hàng; chào đón, phân luồng và tư vấn khách hàng', 'Thực hiện các công việc khác theo phân công của Cán bộ quản lý trực tiếp phù hợp với năng lực và phạm vi công việc.'], 'job_requirements': ['Tốt nghiệp Đại học\\xa0trở lên', 'Hiểu biết các kiến thức về sản phẩm, dịch vụ của Ngân hàng dành cho Khách hàng cá nhân', 'Ưu tiên ứng viên có kinh nghiệm\\xa0ở vị trí quan hệ khách hàng/Giao dịch viên/Chăm sóc khách hàng/Nhân viên kinh doanh...', 'Kỹ năng bán hàng, kỹ năng giao tiếp tốt', 'Ngoại hình khá (Nam cao 1m65 trở lên, nữ cao 1m56\\xa0trở lên)', 'Thành thạo tin học văn phòng cơ bản (word, excel, outlook…)'], 'job_tags': ['Chuyên viên UB Chuyên viên Tư vấn - CN. Nghi Sơn Thanh Hóa'], 'min_salary': '8000000 VNĐ', 'max_salary': '15000000 VNĐ'}\n",
      "{'_id': {'$oid': '66c015512d62a130f808035a'}, 'url': 'https://tuyendung.mbbank.com.vn/viec-lam/chuyen-vien-ub-chuyen-vien-tu-van-ha-noi.35aa8967.html', 'title': 'Chuyên viên UB (Chuyên viên tư vấn) - Hà Nội', 'workplace': 'Hà Nội', 'job_rank': 'Nhân viên', 'job_form': 'Nhân viên chính thức', 'experience': '1 Năm', 'salary': '10,000,000 - 50,000,000  VNĐ', 'industry': 'Dịch vụ khách hàng, Ngân hàng, Tài chính / Đầu tư', 'deadline_applications': '16/06/2024', 'welfare': ['Máy tính xách tay', 'Bảo hiểm', 'Du Lịch', 'Phụ cấp', 'Đồng phục', 'Thưởng', 'Chăm sóc sức khỏe', 'Đào tạo', 'Tăng lương', 'Công tác phí', 'Phụ cấp thâm niên', 'Chế độ nghỉ phép'], 'job_detail': ['Thực hiện công tác phát triển kinh doanh tại sàn giao dịch\\xa0và quầy khách hàng Ưu tiên của chi nhánh: tư vấn và kinh doanh các sản phẩm, dịch vụ của MB cho Khách hàng cá nhân và Khách hàng Ưu tiên\\xa0bao gồm: Huy động vốn, đầu tư trái phiếu, chứng chỉ quỹ,\\xa0tài khoản thanh toán, thẻ, ngân hàng điện tử…', 'Thực hiện cung cấp dịch vụ Chi nhánh.', 'Tiếp nhận và giải quyết khiếu nại, thắc mắc của khách hàng, hỗ trợ khách hàng; chào đón, phân luồng và tư vấn khách hàng theo phân khúc Mass và VIP.'], 'job_requirements': ['Tốt nghiệp Đại học', 'Hiểu biết các kiến thức về sản phẩm, dịch vụ của Ngân hàng dành cho Khách hàng cá nhân thông thường hoặc Khách hàng Ưu tiên.', 'Ưu tiên ứng viên có kinh nghiệm\\xa0 ở vị trí quan hệ khách hàng/Giao dịch viên/Chăm sóc khách hàng/Nhân viên kinh doanh...', 'Ngoại hình khá (Nam cao 1m65 trở lên, nữ cao 1m58 trở lên)', 'Thành thạo tin học văn phòng cơ bản (word, excel, outlook…)'], 'job_tags': ['Chuyên viên Tư Vấn', 'Nhân viên tư vấn', 'Tư vấn viên', 'Consultant', 'Counsellor', 'Consultant Executive', 'Chuyên viên UB Chuyên viên Tư vấn', 'Priority', 'Khách hàng Ưu tiên', 'Dịch vụ Khách hàng'], 'min_salary': '10000000 VNĐ', 'max_salary': '50000000 VNĐ'}\n",
      "{'_id': {'$oid': '66c015512d62a130f808045e'}, 'url': 'https://tuyendung.mbbank.com.vn/viec-lam/chuyen-vien-ub-chuyen-vien-tu-van-khu-vuc-long-bien.35aa70b2.html', 'title': 'Chuyên viên UB (Chuyên viên Tư vấn) - Khu vực Long Biên', 'workplace': 'Hà Nội', 'job_rank': 'Nhân viên', 'job_form': 'Nhân viên chính thức', 'experience': '1 Năm', 'salary': '15,000,000 - 25,000,000  VNĐ', 'industry': 'Dịch vụ khách hàng, Ngân hàng, Tài chính / Đầu tư', 'deadline_applications': '01/06/2024', 'welfare': ['Bảo hiểm', 'Du Lịch', 'Phụ cấp', 'Du lịch nước ngoài', 'Đồng phục', 'Thưởng', 'Chăm sóc sức khỏe', 'Đào tạo', 'Tăng lương', 'Phụ cấp thâm niên', 'Chế độ nghỉ phép'], 'job_detail': ['Thực hiện công tác bán hàng tại sàn giao dịch chi nhánh: tư vấn và bán các sản phẩm, dịch vụ của MB cho Khách hàng cá nhân bao gồm: Huy động vốn, tài khoản thanh toán, thẻ, ngân hàng điện tử…\\xa0Bán chéo sản phẩm dịch vụ của MB…', 'Thực hiện cung cấp dịch vụ tại sàn giao dịch chi nhánh', 'Tiếp nhận và giải quyết khiếu nại, thắc mắc của khách hàng, hỗ trợ khách hàng; chào đón, phân luồng và tư vấn khách hàng', 'Thực hiện các công việc khác theo phân công của Cán bộ quản lý trực tiếp phù hợp với năng lực và phạm vi công việc.'], 'job_requirements': ['Tốt nghiệp Đại học\\xa0các chuyên ngành kinh tế, tài chính, ngân hàng...', 'Hiểu biết các kiến thức về sản phẩm, dịch vụ của Ngân hàng dành cho Khách hàng cá nhân', 'Kỹ năng bán hàng, kỹ năng giao tiếp tốt', 'Ngoại hình khá (Nam cao 1m68\\xa0trở lên, nữ cao 1m60 trở lên)', 'Thành thạo tin học văn phòng cơ bản (word, excel, outlook…)', 'Ưu tiên ứng viên có ngoại ngữ tốt'], 'job_tags': [], 'min_salary': '15000000 VNĐ', 'max_salary': '25000000 VNĐ'}\n"
     ]
    }
   ],
   "source": [
    "for entry in job_retriever.query(\"nghề UB ở Hải Phòng\", top_k=5):\n",
    "    print(entry['text'])"
   ]
  },
  {
   "cell_type": "code",
   "execution_count": null,
   "metadata": {},
   "outputs": [],
   "source": []
  }
 ],
 "metadata": {
  "kernelspec": {
   "display_name": ".venv",
   "language": "python",
   "name": "python3"
  },
  "language_info": {
   "codemirror_mode": {
    "name": "ipython",
    "version": 3
   },
   "file_extension": ".py",
   "mimetype": "text/x-python",
   "name": "python",
   "nbconvert_exporter": "python",
   "pygments_lexer": "ipython3",
   "version": "3.9.19"
  }
 },
 "nbformat": 4,
 "nbformat_minor": 2
}
