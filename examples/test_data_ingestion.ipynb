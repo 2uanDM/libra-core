{
 "cells": [
  {
   "cell_type": "code",
   "execution_count": 1,
   "metadata": {},
   "outputs": [],
   "source": [
    "import pandas as pd"
   ]
  },
  {
   "cell_type": "code",
   "execution_count": 5,
   "metadata": {},
   "outputs": [],
   "source": [
    "df = pd.read_csv('../data/company_profile.csv')"
   ]
  },
  {
   "cell_type": "code",
   "execution_count": 11,
   "metadata": {},
   "outputs": [],
   "source": [
    "refined_df = df[['Documents Topic', 'Document Content']].dropna()"
   ]
  },
  {
   "cell_type": "code",
   "execution_count": 15,
   "metadata": {},
   "outputs": [
    {
     "data": {
      "text/html": [
       "<div>\n",
       "<style scoped>\n",
       "    .dataframe tbody tr th:only-of-type {\n",
       "        vertical-align: middle;\n",
       "    }\n",
       "\n",
       "    .dataframe tbody tr th {\n",
       "        vertical-align: top;\n",
       "    }\n",
       "\n",
       "    .dataframe thead th {\n",
       "        text-align: right;\n",
       "    }\n",
       "</style>\n",
       "<table border=\"1\" class=\"dataframe\">\n",
       "  <thead>\n",
       "    <tr style=\"text-align: right;\">\n",
       "      <th></th>\n",
       "      <th>Documents Topic</th>\n",
       "      <th>Document Content</th>\n",
       "    </tr>\n",
       "  </thead>\n",
       "  <tbody>\n",
       "    <tr>\n",
       "      <th>0</th>\n",
       "      <td>Quá trình hình thành của MB Bank\\nInsight về t...</td>\n",
       "      <td>Insight về thông tin tuyển dụng, môi trường là...</td>\n",
       "    </tr>\n",
       "    <tr>\n",
       "      <th>2</th>\n",
       "      <td>Nhóm giải thưởng thành tích về Tài chính - Ngâ...</td>\n",
       "      <td>Insight về thông tin tuyển dụng, môi trường là...</td>\n",
       "    </tr>\n",
       "    <tr>\n",
       "      <th>3</th>\n",
       "      <td>\\nNhóm giải thưởng, thành tích về Tuyển dụng/N...</td>\n",
       "      <td>\\nNhóm giải thưởng, thành tích về Tuyển dụng/N...</td>\n",
       "    </tr>\n",
       "    <tr>\n",
       "      <th>4</th>\n",
       "      <td>Motivation insights: điều tạo động lực cho ứng...</td>\n",
       "      <td>Insight về thông tin tuyển dụng, môi trường là...</td>\n",
       "    </tr>\n",
       "    <tr>\n",
       "      <th>5</th>\n",
       "      <td>7 nhóm nghề nghiệp, 17 nhóm công việc tại MB\\n...</td>\n",
       "      <td>Insight về thông tin tuyển dụng, môi trường là...</td>\n",
       "    </tr>\n",
       "    <tr>\n",
       "      <th>...</th>\n",
       "      <td>...</td>\n",
       "      <td>...</td>\n",
       "    </tr>\n",
       "    <tr>\n",
       "      <th>164</th>\n",
       "      <td>Khu vực Tây Nam Bộ</td>\n",
       "      <td>Khu vực Miền Nam,Tây Nam Bộ,CN. An Giang,Trụ s...</td>\n",
       "    </tr>\n",
       "    <tr>\n",
       "      <th>165</th>\n",
       "      <td>Khu vực Miền Trung 1/2</td>\n",
       "      <td>Khu vực Miền Trung,Miền Trung,CN. Bắc Đà Nẵng,...</td>\n",
       "    </tr>\n",
       "    <tr>\n",
       "      <th>166</th>\n",
       "      <td>Khu vực Miền Trung 2/2</td>\n",
       "      <td>Khu vực Miền Trung,Miền Trung,CN. Nam Đà Nẵng,...</td>\n",
       "    </tr>\n",
       "    <tr>\n",
       "      <th>167</th>\n",
       "      <td>Khu vực TP Hồ Chí Minh</td>\n",
       "      <td>Khu vực TP Hồ Chí Minh,CN. An Phú,Trụ sở,TP Hồ...</td>\n",
       "    </tr>\n",
       "    <tr>\n",
       "      <th>168</th>\n",
       "      <td>Khu vực TP Hồ Chí Minh</td>\n",
       "      <td>Khu vực TP Hồ Chí Minh,CN. 3 tháng 2,Trụ sở,TP...</td>\n",
       "    </tr>\n",
       "  </tbody>\n",
       "</table>\n",
       "<p>168 rows × 2 columns</p>\n",
       "</div>"
      ],
      "text/plain": [
       "                                       Documents Topic  \\\n",
       "0    Quá trình hình thành của MB Bank\\nInsight về t...   \n",
       "2    Nhóm giải thưởng thành tích về Tài chính - Ngâ...   \n",
       "3    \\nNhóm giải thưởng, thành tích về Tuyển dụng/N...   \n",
       "4    Motivation insights: điều tạo động lực cho ứng...   \n",
       "5    7 nhóm nghề nghiệp, 17 nhóm công việc tại MB\\n...   \n",
       "..                                                 ...   \n",
       "164                                 Khu vực Tây Nam Bộ   \n",
       "165                             Khu vực Miền Trung 1/2   \n",
       "166                             Khu vực Miền Trung 2/2   \n",
       "167                             Khu vực TP Hồ Chí Minh   \n",
       "168                             Khu vực TP Hồ Chí Minh   \n",
       "\n",
       "                                      Document Content  \n",
       "0    Insight về thông tin tuyển dụng, môi trường là...  \n",
       "2    Insight về thông tin tuyển dụng, môi trường là...  \n",
       "3    \\nNhóm giải thưởng, thành tích về Tuyển dụng/N...  \n",
       "4    Insight về thông tin tuyển dụng, môi trường là...  \n",
       "5    Insight về thông tin tuyển dụng, môi trường là...  \n",
       "..                                                 ...  \n",
       "164  Khu vực Miền Nam,Tây Nam Bộ,CN. An Giang,Trụ s...  \n",
       "165  Khu vực Miền Trung,Miền Trung,CN. Bắc Đà Nẵng,...  \n",
       "166  Khu vực Miền Trung,Miền Trung,CN. Nam Đà Nẵng,...  \n",
       "167  Khu vực TP Hồ Chí Minh,CN. An Phú,Trụ sở,TP Hồ...  \n",
       "168  Khu vực TP Hồ Chí Minh,CN. 3 tháng 2,Trụ sở,TP...  \n",
       "\n",
       "[168 rows x 2 columns]"
      ]
     },
     "execution_count": 15,
     "metadata": {},
     "output_type": "execute_result"
    }
   ],
   "source": [
    "refined_df"
   ]
  },
  {
   "cell_type": "code",
   "execution_count": null,
   "metadata": {},
   "outputs": [],
   "source": []
  }
 ],
 "metadata": {
  "kernelspec": {
   "display_name": ".venv",
   "language": "python",
   "name": "python3"
  },
  "language_info": {
   "codemirror_mode": {
    "name": "ipython",
    "version": 3
   },
   "file_extension": ".py",
   "mimetype": "text/x-python",
   "name": "python",
   "nbconvert_exporter": "python",
   "pygments_lexer": "ipython3",
   "version": "3.10.0"
  }
 },
 "nbformat": 4,
 "nbformat_minor": 2
}
